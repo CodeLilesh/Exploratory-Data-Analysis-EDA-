{
  "cells": [
    {
      "cell_type": "code",
      "execution_count": 796,
      "metadata": {},
      "outputs": [],
      "source": [
        "#..Exploratory Data Analysis.."
      ]
    },
    {
      "cell_type": "markdown",
      "metadata": {
        "id": "y2VgPk2mTThF"
      },
      "source": [
        "# **Exploratory Data Analysis**\n"
      ]
    },
    {
      "cell_type": "markdown",
      "metadata": {
        "id": "jkRBtAnQTThK"
      },
      "source": [
        "The purpose of this project is to master the exploratory data analysis (EDA) in banking with Pandas framework.\n",
        "\n",
        "Goals of the Project:\n",
        "\n",
        "1.  Explore a banking dataset with Pandas framework.\n",
        "2.  Build pivot tables.\n",
        "3.  Visualize the dataset with various plot types.\n"
      ]
    },
    {
      "cell_type": "markdown",
      "metadata": {
        "id": "CHwOXFUpTThK"
      },
      "source": [
        "## Outline\n"
      ]
    },
    {
      "cell_type": "markdown",
      "metadata": {
        "id": "bHSc4iksTThP"
      },
      "source": [
        "*   Materials and methods\n",
        "*   General part\n",
        "    *   Libraries import\n",
        "    *   Dataset exploration\n",
        "    *   Pivot tables\n",
        "    *   Visualization in Pandas\n",
        "*   Tasks\n"
      ]
    },
    {
      "cell_type": "markdown",
      "metadata": {
        "id": "S4t5rpwITThQ"
      },
      "source": [
        "***\n"
      ]
    },
    {
      "cell_type": "markdown",
      "metadata": {
        "id": "KoNAvKmglBm-"
      },
      "source": [
        "## Materials and methods\n"
      ]
    },
    {
      "cell_type": "markdown",
      "metadata": {
        "id": "ZOgyr5RSlI40"
      },
      "source": [
        "The data that we are going to use for this is a subset of an open source Bank Marketing Data Set from the UCI ML repository: https://archive.ics.uci.edu/ml/citation_policy.html.\n",
        "\n",
        "> This dataset is publicly available for research. The details are described in \\[Moro et al., 2014].\n",
        "\n",
        "During the work, the task of preliminary analysis of a positive response (term deposit) to direct calls from a bank is to solve. In essence, the task is a matter of bank scoring, i.e. according to the characteristics of a client (potential client), their behavior is predicted (loan default, a wish to make a deposit, etc.).\n",
        "\n",
        "In this project, we will try to give answers to a set of questions that may be relevant when analyzing banking data:\n",
        "\n",
        "1.  What is the share of clients attracted in our source data?\n",
        "2.  What are the mean values ​​of numerical features among the attracted clients?\n",
        "3.  What is the average call duration for the attracted clients?\n",
        "4.  What is the average age among the attracted and unmarried clients?\n",
        "5.  What is the average age and call duration for different types of client employment?\n",
        "\n",
        "In addition, we will make a visual analysis in order to plan marketing banking campaigns more effectively.\n"
      ]
    },
    {
      "cell_type": "markdown",
      "metadata": {
        "id": "xS8UOiQOTThR"
      },
      "source": [
        "## Libraries import\n"
      ]
    },
    {
      "cell_type": "markdown",
      "metadata": {
        "id": "H6YFQWnQHKui"
      },
      "source": [
        "Download data using a URL.\n"
      ]
    },
    {
      "cell_type": "code",
      "execution_count": 797,
      "metadata": {
        "colab": {
          "base_uri": "https://localhost:8080/"
        },
        "id": "bN5NPujBTThV",
        "outputId": "edb28c29-8f65-4901-e805-9589fd11f54e"
      },
      "outputs": [
        {
          "name": "stderr",
          "output_type": "stream",
          "text": [
            "'wget' is not recognized as an internal or external command,\n",
            "operable program or batch file.\n"
          ]
        }
      ],
      "source": [
        "!wget https://archive.ics.uci.edu/ml/machine-learning-databases/00222/bank-additional.zip"
      ]
    },
    {
      "cell_type": "markdown",
      "metadata": {
        "id": "-BnB2tiSZh4R"
      },
      "source": [
        "Alternative URL for the dataset downloading.\n"
      ]
    },
    {
      "cell_type": "code",
      "execution_count": 798,
      "metadata": {
        "colab": {
          "base_uri": "https://localhost:8080/"
        },
        "id": "ORfD1EUiZuLK",
        "outputId": "4004f5ae-504a-4bae-e216-6c6e1b17a3c7"
      },
      "outputs": [
        {
          "name": "stderr",
          "output_type": "stream",
          "text": [
            "'wget' is not recognized as an internal or external command,\n",
            "operable program or batch file.\n"
          ]
        }
      ],
      "source": [
        "!wget https://cf-courses-data.s3.us.cloud-object-storage.appdomain.cloud/EDA_Pandas_Banking_L1/bank-additional.zip"
      ]
    },
    {
      "cell_type": "code",
      "execution_count": 799,
      "metadata": {
        "id": "iZKbsroFTThY"
      },
      "outputs": [
        {
          "name": "stderr",
          "output_type": "stream",
          "text": [
            "'unzip' is not recognized as an internal or external command,\n",
            "operable program or batch file.\n"
          ]
        }
      ],
      "source": [
        "!unzip -o -q bank-additional.zip"
      ]
    },
    {
      "cell_type": "markdown",
      "metadata": {
        "id": "eGH5DhdLHmOp"
      },
      "source": [
        "Importing the libraries necessary for this project. We can add some aliases to make the libraries easier to use in our code and set a default figure size for further plots.\n"
      ]
    },
    {
      "cell_type": "code",
      "execution_count": 800,
      "metadata": {
        "id": "jdVcijxmTTha"
      },
      "outputs": [],
      "source": [
        "import pandas as pd\n",
        "import matplotlib.pyplot as plt\n",
        "import numpy as np\n",
        "\n",
        "%matplotlib inline \n",
        "plt.rcParams[\"figure.figsize\"] = (8, 6)\n",
        "\n",
        "import warnings\n",
        "warnings.filterwarnings('ignore')"
      ]
    },
    {
      "cell_type": "markdown",
      "metadata": {
        "id": "evtbog-C13Z2"
      },
      "source": [
        "Further specify the value of the `precision` parameter equal to 2 to display two decimal signs (instead of 6 as default).\n"
      ]
    },
    {
      "cell_type": "code",
      "execution_count": 801,
      "metadata": {
        "id": "nwMoaJLV13Z3"
      },
      "outputs": [],
      "source": [
        "pd.options.display.precision = 2\n",
        "pd.options.display.float_format = '{:.2f}'.format"
      ]
    },
    {
      "cell_type": "markdown",
      "metadata": {
        "id": "SbmrZguMTThd"
      },
      "source": [
        "## Dataset exploration\n"
      ]
    },
    {
      "cell_type": "markdown",
      "metadata": {
        "id": "EvMGO3m4TThd"
      },
      "source": [
        "In this section we will explore the sourse dataset.\n"
      ]
    },
    {
      "cell_type": "markdown",
      "metadata": {
        "id": "lJ-GKs1J13Zz"
      },
      "source": [
        "Let's read the data and look at the first 5 rows using the `head` method. The number of the output rows from the dataset is determined by the `head` method parameter.\n"
      ]
    },
    {
      "cell_type": "code",
      "execution_count": 802,
      "metadata": {
        "colab": {
          "base_uri": "https://localhost:8080/",
          "height": 300
        },
        "id": "wamAf3HLm_FS",
        "outputId": "571ac87e-b5a4-4de7-9104-12ff2a718c97"
      },
      "outputs": [
        {
          "data": {
            "text/html": [
              "<div>\n",
              "<style scoped>\n",
              "    .dataframe tbody tr th:only-of-type {\n",
              "        vertical-align: middle;\n",
              "    }\n",
              "\n",
              "    .dataframe tbody tr th {\n",
              "        vertical-align: top;\n",
              "    }\n",
              "\n",
              "    .dataframe thead th {\n",
              "        text-align: right;\n",
              "    }\n",
              "</style>\n",
              "<table border=\"1\" class=\"dataframe\">\n",
              "  <thead>\n",
              "    <tr style=\"text-align: right;\">\n",
              "      <th></th>\n",
              "      <th>age</th>\n",
              "      <th>job</th>\n",
              "      <th>marital</th>\n",
              "      <th>education</th>\n",
              "      <th>default</th>\n",
              "      <th>housing</th>\n",
              "      <th>loan</th>\n",
              "      <th>contact</th>\n",
              "      <th>month</th>\n",
              "      <th>day_of_week</th>\n",
              "      <th>...</th>\n",
              "      <th>campaign</th>\n",
              "      <th>pdays</th>\n",
              "      <th>previous</th>\n",
              "      <th>poutcome</th>\n",
              "      <th>emp.var.rate</th>\n",
              "      <th>cons.price.idx</th>\n",
              "      <th>cons.conf.idx</th>\n",
              "      <th>euribor3m</th>\n",
              "      <th>nr.employed</th>\n",
              "      <th>y</th>\n",
              "    </tr>\n",
              "  </thead>\n",
              "  <tbody>\n",
              "    <tr>\n",
              "      <th>0</th>\n",
              "      <td>30</td>\n",
              "      <td>blue-collar</td>\n",
              "      <td>married</td>\n",
              "      <td>basic.9y</td>\n",
              "      <td>no</td>\n",
              "      <td>yes</td>\n",
              "      <td>no</td>\n",
              "      <td>cellular</td>\n",
              "      <td>may</td>\n",
              "      <td>fri</td>\n",
              "      <td>...</td>\n",
              "      <td>2</td>\n",
              "      <td>999</td>\n",
              "      <td>0</td>\n",
              "      <td>nonexistent</td>\n",
              "      <td>-1.80</td>\n",
              "      <td>92.89</td>\n",
              "      <td>-46.20</td>\n",
              "      <td>1.31</td>\n",
              "      <td>5099.10</td>\n",
              "      <td>no</td>\n",
              "    </tr>\n",
              "    <tr>\n",
              "      <th>1</th>\n",
              "      <td>39</td>\n",
              "      <td>services</td>\n",
              "      <td>single</td>\n",
              "      <td>high.school</td>\n",
              "      <td>no</td>\n",
              "      <td>no</td>\n",
              "      <td>no</td>\n",
              "      <td>telephone</td>\n",
              "      <td>may</td>\n",
              "      <td>fri</td>\n",
              "      <td>...</td>\n",
              "      <td>4</td>\n",
              "      <td>999</td>\n",
              "      <td>0</td>\n",
              "      <td>nonexistent</td>\n",
              "      <td>1.10</td>\n",
              "      <td>93.99</td>\n",
              "      <td>-36.40</td>\n",
              "      <td>4.86</td>\n",
              "      <td>5191.00</td>\n",
              "      <td>no</td>\n",
              "    </tr>\n",
              "    <tr>\n",
              "      <th>2</th>\n",
              "      <td>25</td>\n",
              "      <td>services</td>\n",
              "      <td>married</td>\n",
              "      <td>high.school</td>\n",
              "      <td>no</td>\n",
              "      <td>yes</td>\n",
              "      <td>no</td>\n",
              "      <td>telephone</td>\n",
              "      <td>jun</td>\n",
              "      <td>wed</td>\n",
              "      <td>...</td>\n",
              "      <td>1</td>\n",
              "      <td>999</td>\n",
              "      <td>0</td>\n",
              "      <td>nonexistent</td>\n",
              "      <td>1.40</td>\n",
              "      <td>94.47</td>\n",
              "      <td>-41.80</td>\n",
              "      <td>4.96</td>\n",
              "      <td>5228.10</td>\n",
              "      <td>no</td>\n",
              "    </tr>\n",
              "    <tr>\n",
              "      <th>3</th>\n",
              "      <td>38</td>\n",
              "      <td>services</td>\n",
              "      <td>married</td>\n",
              "      <td>basic.9y</td>\n",
              "      <td>no</td>\n",
              "      <td>unknown</td>\n",
              "      <td>unknown</td>\n",
              "      <td>telephone</td>\n",
              "      <td>jun</td>\n",
              "      <td>fri</td>\n",
              "      <td>...</td>\n",
              "      <td>3</td>\n",
              "      <td>999</td>\n",
              "      <td>0</td>\n",
              "      <td>nonexistent</td>\n",
              "      <td>1.40</td>\n",
              "      <td>94.47</td>\n",
              "      <td>-41.80</td>\n",
              "      <td>4.96</td>\n",
              "      <td>5228.10</td>\n",
              "      <td>no</td>\n",
              "    </tr>\n",
              "    <tr>\n",
              "      <th>4</th>\n",
              "      <td>47</td>\n",
              "      <td>admin.</td>\n",
              "      <td>married</td>\n",
              "      <td>university.degree</td>\n",
              "      <td>no</td>\n",
              "      <td>yes</td>\n",
              "      <td>no</td>\n",
              "      <td>cellular</td>\n",
              "      <td>nov</td>\n",
              "      <td>mon</td>\n",
              "      <td>...</td>\n",
              "      <td>1</td>\n",
              "      <td>999</td>\n",
              "      <td>0</td>\n",
              "      <td>nonexistent</td>\n",
              "      <td>-0.10</td>\n",
              "      <td>93.20</td>\n",
              "      <td>-42.00</td>\n",
              "      <td>4.19</td>\n",
              "      <td>5195.80</td>\n",
              "      <td>no</td>\n",
              "    </tr>\n",
              "  </tbody>\n",
              "</table>\n",
              "<p>5 rows × 21 columns</p>\n",
              "</div>"
            ],
            "text/plain": [
              "   age          job  marital          education default  housing     loan  \\\n",
              "0   30  blue-collar  married           basic.9y      no      yes       no   \n",
              "1   39     services   single        high.school      no       no       no   \n",
              "2   25     services  married        high.school      no      yes       no   \n",
              "3   38     services  married           basic.9y      no  unknown  unknown   \n",
              "4   47       admin.  married  university.degree      no      yes       no   \n",
              "\n",
              "     contact month day_of_week  ...  campaign  pdays  previous     poutcome  \\\n",
              "0   cellular   may         fri  ...         2    999         0  nonexistent   \n",
              "1  telephone   may         fri  ...         4    999         0  nonexistent   \n",
              "2  telephone   jun         wed  ...         1    999         0  nonexistent   \n",
              "3  telephone   jun         fri  ...         3    999         0  nonexistent   \n",
              "4   cellular   nov         mon  ...         1    999         0  nonexistent   \n",
              "\n",
              "  emp.var.rate  cons.price.idx  cons.conf.idx  euribor3m  nr.employed   y  \n",
              "0        -1.80           92.89         -46.20       1.31      5099.10  no  \n",
              "1         1.10           93.99         -36.40       4.86      5191.00  no  \n",
              "2         1.40           94.47         -41.80       4.96      5228.10  no  \n",
              "3         1.40           94.47         -41.80       4.96      5228.10  no  \n",
              "4        -0.10           93.20         -42.00       4.19      5195.80  no  \n",
              "\n",
              "[5 rows x 21 columns]"
            ]
          },
          "execution_count": 802,
          "metadata": {},
          "output_type": "execute_result"
        }
      ],
      "source": [
        "df = pd.read_csv('Dataset/bank-additional.csv', sep = ';')\n",
        "df.head(5)"
      ]
    },
    {
      "cell_type": "markdown",
      "metadata": {
        "id": "NjzxXtUp13Z3"
      },
      "source": [
        "### Let's look at the dataset size, feature names and their types\n"
      ]
    },
    {
      "cell_type": "code",
      "execution_count": 803,
      "metadata": {
        "colab": {
          "base_uri": "https://localhost:8080/",
          "height": 317
        },
        "id": "53xc7fWwoOMD",
        "outputId": "0cfc52cf-1d2a-4328-d920-e1b90bb19703"
      },
      "outputs": [
        {
          "data": {
            "text/html": [
              "<div>\n",
              "<style scoped>\n",
              "    .dataframe tbody tr th:only-of-type {\n",
              "        vertical-align: middle;\n",
              "    }\n",
              "\n",
              "    .dataframe tbody tr th {\n",
              "        vertical-align: top;\n",
              "    }\n",
              "\n",
              "    .dataframe thead th {\n",
              "        text-align: right;\n",
              "    }\n",
              "</style>\n",
              "<table border=\"1\" class=\"dataframe\">\n",
              "  <thead>\n",
              "    <tr style=\"text-align: right;\">\n",
              "      <th></th>\n",
              "      <th>age</th>\n",
              "      <th>job</th>\n",
              "      <th>marital</th>\n",
              "      <th>education</th>\n",
              "      <th>default</th>\n",
              "      <th>housing</th>\n",
              "      <th>loan</th>\n",
              "      <th>contact</th>\n",
              "      <th>month</th>\n",
              "      <th>day_of_week</th>\n",
              "      <th>...</th>\n",
              "      <th>campaign</th>\n",
              "      <th>pdays</th>\n",
              "      <th>previous</th>\n",
              "      <th>poutcome</th>\n",
              "      <th>emp.var.rate</th>\n",
              "      <th>cons.price.idx</th>\n",
              "      <th>cons.conf.idx</th>\n",
              "      <th>euribor3m</th>\n",
              "      <th>nr.employed</th>\n",
              "      <th>y</th>\n",
              "    </tr>\n",
              "  </thead>\n",
              "  <tbody>\n",
              "    <tr>\n",
              "      <th>4114</th>\n",
              "      <td>30</td>\n",
              "      <td>admin.</td>\n",
              "      <td>married</td>\n",
              "      <td>basic.6y</td>\n",
              "      <td>no</td>\n",
              "      <td>yes</td>\n",
              "      <td>yes</td>\n",
              "      <td>cellular</td>\n",
              "      <td>jul</td>\n",
              "      <td>thu</td>\n",
              "      <td>...</td>\n",
              "      <td>1</td>\n",
              "      <td>999</td>\n",
              "      <td>0</td>\n",
              "      <td>nonexistent</td>\n",
              "      <td>1.40</td>\n",
              "      <td>93.92</td>\n",
              "      <td>-42.70</td>\n",
              "      <td>4.96</td>\n",
              "      <td>5228.10</td>\n",
              "      <td>no</td>\n",
              "    </tr>\n",
              "    <tr>\n",
              "      <th>4115</th>\n",
              "      <td>39</td>\n",
              "      <td>admin.</td>\n",
              "      <td>married</td>\n",
              "      <td>high.school</td>\n",
              "      <td>no</td>\n",
              "      <td>yes</td>\n",
              "      <td>no</td>\n",
              "      <td>telephone</td>\n",
              "      <td>jul</td>\n",
              "      <td>fri</td>\n",
              "      <td>...</td>\n",
              "      <td>1</td>\n",
              "      <td>999</td>\n",
              "      <td>0</td>\n",
              "      <td>nonexistent</td>\n",
              "      <td>1.40</td>\n",
              "      <td>93.92</td>\n",
              "      <td>-42.70</td>\n",
              "      <td>4.96</td>\n",
              "      <td>5228.10</td>\n",
              "      <td>no</td>\n",
              "    </tr>\n",
              "    <tr>\n",
              "      <th>4116</th>\n",
              "      <td>27</td>\n",
              "      <td>student</td>\n",
              "      <td>single</td>\n",
              "      <td>high.school</td>\n",
              "      <td>no</td>\n",
              "      <td>no</td>\n",
              "      <td>no</td>\n",
              "      <td>cellular</td>\n",
              "      <td>may</td>\n",
              "      <td>mon</td>\n",
              "      <td>...</td>\n",
              "      <td>2</td>\n",
              "      <td>999</td>\n",
              "      <td>1</td>\n",
              "      <td>failure</td>\n",
              "      <td>-1.80</td>\n",
              "      <td>92.89</td>\n",
              "      <td>-46.20</td>\n",
              "      <td>1.35</td>\n",
              "      <td>5099.10</td>\n",
              "      <td>no</td>\n",
              "    </tr>\n",
              "    <tr>\n",
              "      <th>4117</th>\n",
              "      <td>58</td>\n",
              "      <td>admin.</td>\n",
              "      <td>married</td>\n",
              "      <td>high.school</td>\n",
              "      <td>no</td>\n",
              "      <td>no</td>\n",
              "      <td>no</td>\n",
              "      <td>cellular</td>\n",
              "      <td>aug</td>\n",
              "      <td>fri</td>\n",
              "      <td>...</td>\n",
              "      <td>1</td>\n",
              "      <td>999</td>\n",
              "      <td>0</td>\n",
              "      <td>nonexistent</td>\n",
              "      <td>1.40</td>\n",
              "      <td>93.44</td>\n",
              "      <td>-36.10</td>\n",
              "      <td>4.97</td>\n",
              "      <td>5228.10</td>\n",
              "      <td>no</td>\n",
              "    </tr>\n",
              "    <tr>\n",
              "      <th>4118</th>\n",
              "      <td>34</td>\n",
              "      <td>management</td>\n",
              "      <td>single</td>\n",
              "      <td>high.school</td>\n",
              "      <td>no</td>\n",
              "      <td>yes</td>\n",
              "      <td>no</td>\n",
              "      <td>cellular</td>\n",
              "      <td>nov</td>\n",
              "      <td>wed</td>\n",
              "      <td>...</td>\n",
              "      <td>1</td>\n",
              "      <td>999</td>\n",
              "      <td>0</td>\n",
              "      <td>nonexistent</td>\n",
              "      <td>-0.10</td>\n",
              "      <td>93.20</td>\n",
              "      <td>-42.00</td>\n",
              "      <td>4.12</td>\n",
              "      <td>5195.80</td>\n",
              "      <td>no</td>\n",
              "    </tr>\n",
              "  </tbody>\n",
              "</table>\n",
              "<p>5 rows × 21 columns</p>\n",
              "</div>"
            ],
            "text/plain": [
              "      age         job  marital    education default housing loan    contact  \\\n",
              "4114   30      admin.  married     basic.6y      no     yes  yes   cellular   \n",
              "4115   39      admin.  married  high.school      no     yes   no  telephone   \n",
              "4116   27     student   single  high.school      no      no   no   cellular   \n",
              "4117   58      admin.  married  high.school      no      no   no   cellular   \n",
              "4118   34  management   single  high.school      no     yes   no   cellular   \n",
              "\n",
              "     month day_of_week  ...  campaign  pdays  previous     poutcome  \\\n",
              "4114   jul         thu  ...         1    999         0  nonexistent   \n",
              "4115   jul         fri  ...         1    999         0  nonexistent   \n",
              "4116   may         mon  ...         2    999         1      failure   \n",
              "4117   aug         fri  ...         1    999         0  nonexistent   \n",
              "4118   nov         wed  ...         1    999         0  nonexistent   \n",
              "\n",
              "     emp.var.rate  cons.price.idx  cons.conf.idx  euribor3m  nr.employed   y  \n",
              "4114         1.40           93.92         -42.70       4.96      5228.10  no  \n",
              "4115         1.40           93.92         -42.70       4.96      5228.10  no  \n",
              "4116        -1.80           92.89         -46.20       1.35      5099.10  no  \n",
              "4117         1.40           93.44         -36.10       4.97      5228.10  no  \n",
              "4118        -0.10           93.20         -42.00       4.12      5195.80  no  \n",
              "\n",
              "[5 rows x 21 columns]"
            ]
          },
          "execution_count": 803,
          "metadata": {},
          "output_type": "execute_result"
        }
      ],
      "source": [
        "df.tail(5)"
      ]
    },
    {
      "cell_type": "markdown",
      "metadata": {
        "id": "HtO5KNTV13Z5"
      },
      "source": [
        "The dataset contains 4119 objects (rows), for each of which 21 features are set (columns), including 1 target feature (`y`).\n"
      ]
    },
    {
      "cell_type": "markdown",
      "metadata": {
        "id": "KVOmrfNH3pRs"
      },
      "source": [
        "### Attributing information\n"
      ]
    },
    {
      "cell_type": "markdown",
      "metadata": {
        "id": "TSTqzHlbKWoa"
      },
      "source": [
        "Output the column (feature) names:\n"
      ]
    },
    {
      "cell_type": "code",
      "execution_count": 804,
      "metadata": {
        "colab": {
          "base_uri": "https://localhost:8080/"
        },
        "id": "3uuAnHe3nvCh",
        "outputId": "e84a01fa-9955-4246-9eb6-081231ba533b"
      },
      "outputs": [
        {
          "data": {
            "text/plain": [
              "Index(['age', 'job', 'marital', 'education', 'default', 'housing', 'loan',\n",
              "       'contact', 'month', 'day_of_week', 'duration', 'campaign', 'pdays',\n",
              "       'previous', 'poutcome', 'emp.var.rate', 'cons.price.idx',\n",
              "       'cons.conf.idx', 'euribor3m', 'nr.employed', 'y'],\n",
              "      dtype='object')"
            ]
          },
          "execution_count": 804,
          "metadata": {},
          "output_type": "execute_result"
        }
      ],
      "source": [
        "df.columns"
      ]
    },
    {
      "cell_type": "markdown",
      "metadata": {
        "id": "0SDpd1dxKeq4"
      },
      "source": [
        "Input features (column names):\n",
        "\n",
        "1.  `age` - client's age in years (numeric)\n",
        "2.  `job` - type of job (categorical: `admin.`, `blue-collar`, `entrepreneur`, `housemaid`, `management`, `retired`, `self-employed`, `services`, `student`, `technician`, `unemployed`, `unknown`)\n",
        "3.  `marital` - marital status (categorical: `divorced`, `married`, `single`, `unknown`)\n",
        "4.  `education` - client's education (categorical: `basic.4y`, `basic.6y`, `basic.9y`, `high.school`, `illiterate`, `professional.course`, `university.degree`, `unknown`)\n",
        "5.  `default` - has credit in default? (categorical: `no`, `yes`, `unknown`)\n",
        "6.  `housing` - has housing loan? (categorical: `no`, `yes`, `unknown`)\n",
        "7.  `loan` - has personal loan? (categorical: `no`, `yes`, `unknown`)\n",
        "8.  `contact` - contact communication type (categorical: `cellular`, `telephone`)\n",
        "9.  `month` - last contact month of the year (categorical: `jan`, `feb`, `mar`, ..., `nov`, `dec`)\n",
        "10. `day_of_week` - last contact day of the week (categorical: `mon`, `tue`, `wed`, `thu`, `fri`)\n",
        "11. `duration` - last contact duration, in seconds (numeric).\n",
        "12. `campaign` - number of contacts performed and for this client during this campaign (numeric, includes the last contact)\n",
        "13. `pdays` - number of days that have passed after the client was last contacted from the previous campaign (numeric; 999 means the client has not been previously contacted)\n",
        "14. `previous` - number of contacts performed for this client before this campaign (numeric)\n",
        "15. `poutcome` - outcome of the previous marketing campaign (categorical: `failure`, `nonexistent`, `success`)\n",
        "16. `emp.var.rate` - employment variation rate, quarterly indicator (numeric)\n",
        "17. `cons.price.idx` - consumer price index, monthly indicator (numeric)\n",
        "18. `cons.conf.idx` - consumer confidence index, monthly indicator (numeric)\n",
        "19. `euribor3m` - euribor 3 month rate, daily indicator (numeric)\n",
        "20. `nr.employed` - number of employees, quarterly indicator (numeric)\n",
        "\n",
        "Output feature (desired target):\n",
        "\n",
        "21. `y` - has the client subscribed a term deposit? (binary: `yes`,`no`)\n"
      ]
    },
    {
      "cell_type": "markdown",
      "metadata": {
        "id": "x6SaYJgj13Z6"
      },
      "source": [
        "To see the general information on all the DataFrame features (columns), we use the **`info`** method:\n"
      ]
    },
    {
      "cell_type": "code",
      "execution_count": 805,
      "metadata": {
        "colab": {
          "base_uri": "https://localhost:8080/"
        },
        "id": "LCV1-dAJ13Z6",
        "outputId": "58babb7c-9788-4027-99ba-d5070a257e56"
      },
      "outputs": [
        {
          "name": "stdout",
          "output_type": "stream",
          "text": [
            "<class 'pandas.core.frame.DataFrame'>\n",
            "RangeIndex: 4119 entries, 0 to 4118\n",
            "Data columns (total 21 columns):\n",
            " #   Column          Non-Null Count  Dtype  \n",
            "---  ------          --------------  -----  \n",
            " 0   age             4119 non-null   int64  \n",
            " 1   job             4119 non-null   object \n",
            " 2   marital         4119 non-null   object \n",
            " 3   education       4119 non-null   object \n",
            " 4   default         4119 non-null   object \n",
            " 5   housing         4119 non-null   object \n",
            " 6   loan            4119 non-null   object \n",
            " 7   contact         4119 non-null   object \n",
            " 8   month           4119 non-null   object \n",
            " 9   day_of_week     4119 non-null   object \n",
            " 10  duration        4119 non-null   int64  \n",
            " 11  campaign        4119 non-null   int64  \n",
            " 12  pdays           4119 non-null   int64  \n",
            " 13  previous        4119 non-null   int64  \n",
            " 14  poutcome        4119 non-null   object \n",
            " 15  emp.var.rate    4119 non-null   float64\n",
            " 16  cons.price.idx  4119 non-null   float64\n",
            " 17  cons.conf.idx   4119 non-null   float64\n",
            " 18  euribor3m       4119 non-null   float64\n",
            " 19  nr.employed     4119 non-null   float64\n",
            " 20  y               4119 non-null   object \n",
            "dtypes: float64(5), int64(5), object(11)\n",
            "memory usage: 675.9+ KB\n",
            "None\n"
          ]
        }
      ],
      "source": [
        "print(df.info())"
      ]
    },
    {
      "cell_type": "markdown",
      "metadata": {
        "id": "Ic2B0eP0PshN"
      },
      "source": [
        "As we can see, the dataset is full, no pass (`non-null`), so there is no need to fill the gaps. The dataset contains 5 integer (`int64`), 5 real (`float64`) and 11 categorical and binary (`object`) features.\n"
      ]
    },
    {
      "cell_type": "markdown",
      "metadata": {
        "id": "Z2I_fcSH13Z8"
      },
      "source": [
        "Method **`describe`** shows the main statistical characteristics of the dataset for each numerical feature (`int64` and `float64` types): the existing values number, mean, standard deviation, range, min & max, 0.25, 0.5 and 0.75 quartiles.\n"
      ]
    },
    {
      "cell_type": "code",
      "execution_count": 806,
      "metadata": {
        "colab": {
          "base_uri": "https://localhost:8080/",
          "height": 300
        },
        "id": "JGuHLQMl13Z8",
        "outputId": "95f1f0ce-b2e5-4fa5-aee7-eb1b6f2a7a88"
      },
      "outputs": [
        {
          "data": {
            "text/html": [
              "<div>\n",
              "<style scoped>\n",
              "    .dataframe tbody tr th:only-of-type {\n",
              "        vertical-align: middle;\n",
              "    }\n",
              "\n",
              "    .dataframe tbody tr th {\n",
              "        vertical-align: top;\n",
              "    }\n",
              "\n",
              "    .dataframe thead th {\n",
              "        text-align: right;\n",
              "    }\n",
              "</style>\n",
              "<table border=\"1\" class=\"dataframe\">\n",
              "  <thead>\n",
              "    <tr style=\"text-align: right;\">\n",
              "      <th></th>\n",
              "      <th>age</th>\n",
              "      <th>duration</th>\n",
              "      <th>campaign</th>\n",
              "      <th>pdays</th>\n",
              "      <th>previous</th>\n",
              "      <th>emp.var.rate</th>\n",
              "      <th>cons.price.idx</th>\n",
              "      <th>cons.conf.idx</th>\n",
              "      <th>euribor3m</th>\n",
              "      <th>nr.employed</th>\n",
              "    </tr>\n",
              "  </thead>\n",
              "  <tbody>\n",
              "    <tr>\n",
              "      <th>count</th>\n",
              "      <td>4119.00</td>\n",
              "      <td>4119.00</td>\n",
              "      <td>4119.00</td>\n",
              "      <td>4119.00</td>\n",
              "      <td>4119.00</td>\n",
              "      <td>4119.00</td>\n",
              "      <td>4119.00</td>\n",
              "      <td>4119.00</td>\n",
              "      <td>4119.00</td>\n",
              "      <td>4119.00</td>\n",
              "    </tr>\n",
              "    <tr>\n",
              "      <th>mean</th>\n",
              "      <td>40.11</td>\n",
              "      <td>256.79</td>\n",
              "      <td>2.54</td>\n",
              "      <td>960.42</td>\n",
              "      <td>0.19</td>\n",
              "      <td>0.08</td>\n",
              "      <td>93.58</td>\n",
              "      <td>-40.50</td>\n",
              "      <td>3.62</td>\n",
              "      <td>5166.48</td>\n",
              "    </tr>\n",
              "    <tr>\n",
              "      <th>std</th>\n",
              "      <td>10.31</td>\n",
              "      <td>254.70</td>\n",
              "      <td>2.57</td>\n",
              "      <td>191.92</td>\n",
              "      <td>0.54</td>\n",
              "      <td>1.56</td>\n",
              "      <td>0.58</td>\n",
              "      <td>4.59</td>\n",
              "      <td>1.73</td>\n",
              "      <td>73.67</td>\n",
              "    </tr>\n",
              "    <tr>\n",
              "      <th>min</th>\n",
              "      <td>18.00</td>\n",
              "      <td>0.00</td>\n",
              "      <td>1.00</td>\n",
              "      <td>0.00</td>\n",
              "      <td>0.00</td>\n",
              "      <td>-3.40</td>\n",
              "      <td>92.20</td>\n",
              "      <td>-50.80</td>\n",
              "      <td>0.64</td>\n",
              "      <td>4963.60</td>\n",
              "    </tr>\n",
              "    <tr>\n",
              "      <th>25%</th>\n",
              "      <td>32.00</td>\n",
              "      <td>103.00</td>\n",
              "      <td>1.00</td>\n",
              "      <td>999.00</td>\n",
              "      <td>0.00</td>\n",
              "      <td>-1.80</td>\n",
              "      <td>93.08</td>\n",
              "      <td>-42.70</td>\n",
              "      <td>1.33</td>\n",
              "      <td>5099.10</td>\n",
              "    </tr>\n",
              "    <tr>\n",
              "      <th>50%</th>\n",
              "      <td>38.00</td>\n",
              "      <td>181.00</td>\n",
              "      <td>2.00</td>\n",
              "      <td>999.00</td>\n",
              "      <td>0.00</td>\n",
              "      <td>1.10</td>\n",
              "      <td>93.75</td>\n",
              "      <td>-41.80</td>\n",
              "      <td>4.86</td>\n",
              "      <td>5191.00</td>\n",
              "    </tr>\n",
              "    <tr>\n",
              "      <th>75%</th>\n",
              "      <td>47.00</td>\n",
              "      <td>317.00</td>\n",
              "      <td>3.00</td>\n",
              "      <td>999.00</td>\n",
              "      <td>0.00</td>\n",
              "      <td>1.40</td>\n",
              "      <td>93.99</td>\n",
              "      <td>-36.40</td>\n",
              "      <td>4.96</td>\n",
              "      <td>5228.10</td>\n",
              "    </tr>\n",
              "    <tr>\n",
              "      <th>max</th>\n",
              "      <td>88.00</td>\n",
              "      <td>3643.00</td>\n",
              "      <td>35.00</td>\n",
              "      <td>999.00</td>\n",
              "      <td>6.00</td>\n",
              "      <td>1.40</td>\n",
              "      <td>94.77</td>\n",
              "      <td>-26.90</td>\n",
              "      <td>5.04</td>\n",
              "      <td>5228.10</td>\n",
              "    </tr>\n",
              "  </tbody>\n",
              "</table>\n",
              "</div>"
            ],
            "text/plain": [
              "          age  duration  campaign   pdays  previous  emp.var.rate  \\\n",
              "count 4119.00   4119.00   4119.00 4119.00   4119.00       4119.00   \n",
              "mean    40.11    256.79      2.54  960.42      0.19          0.08   \n",
              "std     10.31    254.70      2.57  191.92      0.54          1.56   \n",
              "min     18.00      0.00      1.00    0.00      0.00         -3.40   \n",
              "25%     32.00    103.00      1.00  999.00      0.00         -1.80   \n",
              "50%     38.00    181.00      2.00  999.00      0.00          1.10   \n",
              "75%     47.00    317.00      3.00  999.00      0.00          1.40   \n",
              "max     88.00   3643.00     35.00  999.00      6.00          1.40   \n",
              "\n",
              "       cons.price.idx  cons.conf.idx  euribor3m  nr.employed  \n",
              "count         4119.00        4119.00    4119.00      4119.00  \n",
              "mean            93.58         -40.50       3.62      5166.48  \n",
              "std              0.58           4.59       1.73        73.67  \n",
              "min             92.20         -50.80       0.64      4963.60  \n",
              "25%             93.08         -42.70       1.33      5099.10  \n",
              "50%             93.75         -41.80       4.86      5191.00  \n",
              "75%             93.99         -36.40       4.96      5228.10  \n",
              "max             94.77         -26.90       5.04      5228.10  "
            ]
          },
          "execution_count": 806,
          "metadata": {},
          "output_type": "execute_result"
        }
      ],
      "source": [
        "df.describe()"
      ]
    },
    {
      "cell_type": "markdown",
      "metadata": {
        "id": "sJO4lJj113Z9"
      },
      "source": [
        "To see the statistics on non-numeric features, we need to explicitly specify the feature types by the `include` parameter. We can also set `include = all` to output statistics on all the existing features.\n"
      ]
    },
    {
      "cell_type": "code",
      "execution_count": 807,
      "metadata": {
        "colab": {
          "base_uri": "https://localhost:8080/",
          "height": 175
        },
        "id": "MtLmlp9k13Z-",
        "outputId": "1c24fae5-6b78-47a4-a4f0-caf7cb7a62ba",
        "scrolled": true
      },
      "outputs": [
        {
          "data": {
            "text/html": [
              "<div>\n",
              "<style scoped>\n",
              "    .dataframe tbody tr th:only-of-type {\n",
              "        vertical-align: middle;\n",
              "    }\n",
              "\n",
              "    .dataframe tbody tr th {\n",
              "        vertical-align: top;\n",
              "    }\n",
              "\n",
              "    .dataframe thead th {\n",
              "        text-align: right;\n",
              "    }\n",
              "</style>\n",
              "<table border=\"1\" class=\"dataframe\">\n",
              "  <thead>\n",
              "    <tr style=\"text-align: right;\">\n",
              "      <th></th>\n",
              "      <th>job</th>\n",
              "      <th>marital</th>\n",
              "      <th>education</th>\n",
              "      <th>default</th>\n",
              "      <th>housing</th>\n",
              "      <th>loan</th>\n",
              "      <th>contact</th>\n",
              "      <th>month</th>\n",
              "      <th>day_of_week</th>\n",
              "      <th>poutcome</th>\n",
              "      <th>y</th>\n",
              "    </tr>\n",
              "  </thead>\n",
              "  <tbody>\n",
              "    <tr>\n",
              "      <th>count</th>\n",
              "      <td>4119</td>\n",
              "      <td>4119</td>\n",
              "      <td>4119</td>\n",
              "      <td>4119</td>\n",
              "      <td>4119</td>\n",
              "      <td>4119</td>\n",
              "      <td>4119</td>\n",
              "      <td>4119</td>\n",
              "      <td>4119</td>\n",
              "      <td>4119</td>\n",
              "      <td>4119</td>\n",
              "    </tr>\n",
              "    <tr>\n",
              "      <th>unique</th>\n",
              "      <td>12</td>\n",
              "      <td>4</td>\n",
              "      <td>8</td>\n",
              "      <td>3</td>\n",
              "      <td>3</td>\n",
              "      <td>3</td>\n",
              "      <td>2</td>\n",
              "      <td>10</td>\n",
              "      <td>5</td>\n",
              "      <td>3</td>\n",
              "      <td>2</td>\n",
              "    </tr>\n",
              "    <tr>\n",
              "      <th>top</th>\n",
              "      <td>admin.</td>\n",
              "      <td>married</td>\n",
              "      <td>university.degree</td>\n",
              "      <td>no</td>\n",
              "      <td>yes</td>\n",
              "      <td>no</td>\n",
              "      <td>cellular</td>\n",
              "      <td>may</td>\n",
              "      <td>thu</td>\n",
              "      <td>nonexistent</td>\n",
              "      <td>no</td>\n",
              "    </tr>\n",
              "    <tr>\n",
              "      <th>freq</th>\n",
              "      <td>1012</td>\n",
              "      <td>2509</td>\n",
              "      <td>1264</td>\n",
              "      <td>3315</td>\n",
              "      <td>2175</td>\n",
              "      <td>3349</td>\n",
              "      <td>2652</td>\n",
              "      <td>1378</td>\n",
              "      <td>860</td>\n",
              "      <td>3523</td>\n",
              "      <td>3668</td>\n",
              "    </tr>\n",
              "  </tbody>\n",
              "</table>\n",
              "</div>"
            ],
            "text/plain": [
              "           job  marital          education default housing  loan   contact  \\\n",
              "count     4119     4119               4119    4119    4119  4119      4119   \n",
              "unique      12        4                  8       3       3     3         2   \n",
              "top     admin.  married  university.degree      no     yes    no  cellular   \n",
              "freq      1012     2509               1264    3315    2175  3349      2652   \n",
              "\n",
              "       month day_of_week     poutcome     y  \n",
              "count   4119        4119         4119  4119  \n",
              "unique    10           5            3     2  \n",
              "top      may         thu  nonexistent    no  \n",
              "freq    1378         860         3523  3668  "
            ]
          },
          "execution_count": 807,
          "metadata": {},
          "output_type": "execute_result"
        }
      ],
      "source": [
        "df.describe(include = [\"object\"])"
      ]
    },
    {
      "cell_type": "markdown",
      "metadata": {
        "id": "cMel_T0IRPA5"
      },
      "source": [
        "The result shows that the average client refers to administrative staff (`job = admin.`), is married (`marital = married`) and has a university degree (`education = university.degree`).\n"
      ]
    },
    {
      "cell_type": "markdown",
      "metadata": {
        "id": "l0-sAGXl13Z_"
      },
      "source": [
        "For categorical (type `object`) and boolean (type `bool`) features you can use the **`value_counts`** method. Let's look at the target feature (`y`) distribution:\n"
      ]
    },
    {
      "cell_type": "code",
      "execution_count": 808,
      "metadata": {
        "colab": {
          "base_uri": "https://localhost:8080/"
        },
        "id": "pjchGbdx13aA",
        "outputId": "6135ba3c-2fa1-4ab1-faa0-cce7df04e611"
      },
      "outputs": [
        {
          "data": {
            "text/plain": [
              "y\n",
              "no     3668\n",
              "yes     451\n",
              "Name: count, dtype: int64"
            ]
          },
          "execution_count": 808,
          "metadata": {},
          "output_type": "execute_result"
        }
      ],
      "source": [
        "df[\"y\"].value_counts()"
      ]
    },
    {
      "cell_type": "code",
      "execution_count": 809,
      "metadata": {},
      "outputs": [
        {
          "data": {
            "image/png": "[encoded data removed]",
            "text/plain": [
              "<Figure size 800x600 with 1 Axes>"
            ]
          },
          "metadata": {},
          "output_type": "display_data"
        }
      ],
      "source": [
        "df['y'].value_counts().plot(kind='pie',autopct='%1.1f%%', title='Clients subscribed to the product')\n",
        "plt.show()"
      ]
    },
    {
      "cell_type": "markdown",
      "metadata": {
        "id": "8P92yMFY13aB"
      },
      "source": [
        "451 clients (10.9%) of 4119 issued a term deposit, the value of the variable `y` equals `yes`.\n",
        "\n",
        "Let's look at the client distribution by the variable `marital`. Specify the value of the `normalize = True` parameter to view relative frequencies, but not absolute."
      ]
    },
    {
      "cell_type": "code",
      "execution_count": 810,
      "metadata": {
        "colab": {
          "base_uri": "https://localhost:8080/"
        },
        "id": "yPqBQPAj13aC",
        "outputId": "42f9d2af-e7b3-4904-a5e9-136e1527a7d4"
      },
      "outputs": [
        {
          "data": {
            "text/plain": [
              "marital\n",
              "married    0.61\n",
              "single     0.28\n",
              "divorced   0.11\n",
              "unknown    0.00\n",
              "Name: proportion, dtype: float64"
            ]
          },
          "execution_count": 810,
          "metadata": {},
          "output_type": "execute_result"
        }
      ],
      "source": [
        "df[\"marital\"].value_counts(normalize = True)"
      ]
    },
    {
      "cell_type": "markdown",
      "metadata": {
        "id": "DjpEnpfUTaKa"
      },
      "source": [
        "As we can see, 61% (0.61) of clients are married, which must be taken into account when planning marketing campaigns to manage deposit operations.\n"
      ]
    },
    {
      "cell_type": "markdown",
      "metadata": {
        "id": "IuChKGTT13aC"
      },
      "source": [
        "### Sorting\n"
      ]
    },
    {
      "cell_type": "markdown",
      "metadata": {
        "id": "hVb-TBY486e0"
      },
      "source": [
        "A `DataFrame` can be sorted by a few feature values. In our case, for example, by `duration` (`ascending = False` for sorting in descending order):\n"
      ]
    },
    {
      "cell_type": "code",
      "execution_count": 811,
      "metadata": {
        "colab": {
          "base_uri": "https://localhost:8080/",
          "height": 300
        },
        "id": "2cPhMArw13aD",
        "outputId": "c5759d67-f38b-4dc9-b7e8-fd08c5a1c6f8"
      },
      "outputs": [
        {
          "data": {
            "text/html": [
              "<div>\n",
              "<style scoped>\n",
              "    .dataframe tbody tr th:only-of-type {\n",
              "        vertical-align: middle;\n",
              "    }\n",
              "\n",
              "    .dataframe tbody tr th {\n",
              "        vertical-align: top;\n",
              "    }\n",
              "\n",
              "    .dataframe thead th {\n",
              "        text-align: right;\n",
              "    }\n",
              "</style>\n",
              "<table border=\"1\" class=\"dataframe\">\n",
              "  <thead>\n",
              "    <tr style=\"text-align: right;\">\n",
              "      <th></th>\n",
              "      <th>age</th>\n",
              "      <th>job</th>\n",
              "      <th>marital</th>\n",
              "      <th>education</th>\n",
              "      <th>default</th>\n",
              "      <th>housing</th>\n",
              "      <th>loan</th>\n",
              "      <th>contact</th>\n",
              "      <th>month</th>\n",
              "      <th>day_of_week</th>\n",
              "      <th>...</th>\n",
              "      <th>campaign</th>\n",
              "      <th>pdays</th>\n",
              "      <th>previous</th>\n",
              "      <th>poutcome</th>\n",
              "      <th>emp.var.rate</th>\n",
              "      <th>cons.price.idx</th>\n",
              "      <th>cons.conf.idx</th>\n",
              "      <th>euribor3m</th>\n",
              "      <th>nr.employed</th>\n",
              "      <th>y</th>\n",
              "    </tr>\n",
              "  </thead>\n",
              "  <tbody>\n",
              "    <tr>\n",
              "      <th>2231</th>\n",
              "      <td>31</td>\n",
              "      <td>technician</td>\n",
              "      <td>married</td>\n",
              "      <td>professional.course</td>\n",
              "      <td>no</td>\n",
              "      <td>no</td>\n",
              "      <td>no</td>\n",
              "      <td>cellular</td>\n",
              "      <td>jul</td>\n",
              "      <td>thu</td>\n",
              "      <td>...</td>\n",
              "      <td>1</td>\n",
              "      <td>999</td>\n",
              "      <td>0</td>\n",
              "      <td>nonexistent</td>\n",
              "      <td>1.40</td>\n",
              "      <td>93.92</td>\n",
              "      <td>-42.70</td>\n",
              "      <td>4.96</td>\n",
              "      <td>5228.10</td>\n",
              "      <td>yes</td>\n",
              "    </tr>\n",
              "    <tr>\n",
              "      <th>1546</th>\n",
              "      <td>46</td>\n",
              "      <td>admin.</td>\n",
              "      <td>divorced</td>\n",
              "      <td>high.school</td>\n",
              "      <td>no</td>\n",
              "      <td>yes</td>\n",
              "      <td>no</td>\n",
              "      <td>telephone</td>\n",
              "      <td>oct</td>\n",
              "      <td>fri</td>\n",
              "      <td>...</td>\n",
              "      <td>1</td>\n",
              "      <td>999</td>\n",
              "      <td>0</td>\n",
              "      <td>nonexistent</td>\n",
              "      <td>-0.10</td>\n",
              "      <td>93.80</td>\n",
              "      <td>-40.40</td>\n",
              "      <td>5.04</td>\n",
              "      <td>5195.80</td>\n",
              "      <td>no</td>\n",
              "    </tr>\n",
              "    <tr>\n",
              "      <th>1392</th>\n",
              "      <td>47</td>\n",
              "      <td>admin.</td>\n",
              "      <td>divorced</td>\n",
              "      <td>university.degree</td>\n",
              "      <td>no</td>\n",
              "      <td>yes</td>\n",
              "      <td>no</td>\n",
              "      <td>telephone</td>\n",
              "      <td>jun</td>\n",
              "      <td>fri</td>\n",
              "      <td>...</td>\n",
              "      <td>3</td>\n",
              "      <td>999</td>\n",
              "      <td>0</td>\n",
              "      <td>nonexistent</td>\n",
              "      <td>1.40</td>\n",
              "      <td>94.47</td>\n",
              "      <td>-41.80</td>\n",
              "      <td>4.97</td>\n",
              "      <td>5228.10</td>\n",
              "      <td>yes</td>\n",
              "    </tr>\n",
              "    <tr>\n",
              "      <th>1685</th>\n",
              "      <td>33</td>\n",
              "      <td>blue-collar</td>\n",
              "      <td>single</td>\n",
              "      <td>high.school</td>\n",
              "      <td>no</td>\n",
              "      <td>no</td>\n",
              "      <td>no</td>\n",
              "      <td>cellular</td>\n",
              "      <td>may</td>\n",
              "      <td>mon</td>\n",
              "      <td>...</td>\n",
              "      <td>1</td>\n",
              "      <td>999</td>\n",
              "      <td>0</td>\n",
              "      <td>nonexistent</td>\n",
              "      <td>-1.80</td>\n",
              "      <td>92.89</td>\n",
              "      <td>-46.20</td>\n",
              "      <td>1.24</td>\n",
              "      <td>5099.10</td>\n",
              "      <td>yes</td>\n",
              "    </tr>\n",
              "    <tr>\n",
              "      <th>3266</th>\n",
              "      <td>49</td>\n",
              "      <td>blue-collar</td>\n",
              "      <td>married</td>\n",
              "      <td>basic.6y</td>\n",
              "      <td>no</td>\n",
              "      <td>yes</td>\n",
              "      <td>no</td>\n",
              "      <td>telephone</td>\n",
              "      <td>may</td>\n",
              "      <td>fri</td>\n",
              "      <td>...</td>\n",
              "      <td>2</td>\n",
              "      <td>999</td>\n",
              "      <td>0</td>\n",
              "      <td>nonexistent</td>\n",
              "      <td>1.10</td>\n",
              "      <td>93.99</td>\n",
              "      <td>-36.40</td>\n",
              "      <td>4.86</td>\n",
              "      <td>5191.00</td>\n",
              "      <td>yes</td>\n",
              "    </tr>\n",
              "  </tbody>\n",
              "</table>\n",
              "<p>5 rows × 21 columns</p>\n",
              "</div>"
            ],
            "text/plain": [
              "      age          job   marital            education default housing loan  \\\n",
              "2231   31   technician   married  professional.course      no      no   no   \n",
              "1546   46       admin.  divorced          high.school      no     yes   no   \n",
              "1392   47       admin.  divorced    university.degree      no     yes   no   \n",
              "1685   33  blue-collar    single          high.school      no      no   no   \n",
              "3266   49  blue-collar   married             basic.6y      no     yes   no   \n",
              "\n",
              "        contact month day_of_week  ...  campaign  pdays  previous  \\\n",
              "2231   cellular   jul         thu  ...         1    999         0   \n",
              "1546  telephone   oct         fri  ...         1    999         0   \n",
              "1392  telephone   jun         fri  ...         3    999         0   \n",
              "1685   cellular   may         mon  ...         1    999         0   \n",
              "3266  telephone   may         fri  ...         2    999         0   \n",
              "\n",
              "         poutcome emp.var.rate  cons.price.idx  cons.conf.idx  euribor3m  \\\n",
              "2231  nonexistent         1.40           93.92         -42.70       4.96   \n",
              "1546  nonexistent        -0.10           93.80         -40.40       5.04   \n",
              "1392  nonexistent         1.40           94.47         -41.80       4.97   \n",
              "1685  nonexistent        -1.80           92.89         -46.20       1.24   \n",
              "3266  nonexistent         1.10           93.99         -36.40       4.86   \n",
              "\n",
              "      nr.employed    y  \n",
              "2231      5228.10  yes  \n",
              "1546      5195.80   no  \n",
              "1392      5228.10  yes  \n",
              "1685      5099.10  yes  \n",
              "3266      5191.00  yes  \n",
              "\n",
              "[5 rows x 21 columns]"
            ]
          },
          "execution_count": 811,
          "metadata": {},
          "output_type": "execute_result"
        }
      ],
      "source": [
        "df.sort_values(by = \"duration\", ascending = False).head()"
      ]
    },
    {
      "cell_type": "code",
      "execution_count": 812,
      "metadata": {},
      "outputs": [
        {
          "data": {
            "text/plain": [
              "2231    3643\n",
              "1546    3253\n",
              "1392    2653\n",
              "1685    2301\n",
              "3266    1980\n",
              "Name: duration, dtype: int64"
            ]
          },
          "execution_count": 812,
          "metadata": {},
          "output_type": "execute_result"
        }
      ],
      "source": [
        "df_sorted= df.sort_values(by = \"duration\", ascending = False).head()\n",
        "df_sorted['duration'].head()"
      ]
    },
    {
      "cell_type": "markdown",
      "metadata": {
        "id": "0FBBnPZ1Uiy5"
      },
      "source": [
        "The sorting results show that the longest calls exceed one hour, as the value `duration` is more than 3600 seconds or 1 hour. At the same time, it usually was on Thursdays and Friday (`day_of_week`) and, especially, in May, June and July (`month`).\n"
      ]
    },
    {
      "cell_type": "markdown",
      "metadata": {
        "id": "OGVjGnbg13aE"
      },
      "source": [
        "Sort by the column group:\n"
      ]
    },
    {
      "cell_type": "code",
      "execution_count": 813,
      "metadata": {
        "colab": {
          "base_uri": "https://localhost:8080/",
          "height": 300
        },
        "id": "AqfjeNAS13aE",
        "outputId": "17e23631-540e-44f9-e7b9-fdcb42f37c60"
      },
      "outputs": [
        {
          "data": {
            "text/html": [
              "<div>\n",
              "<style scoped>\n",
              "    .dataframe tbody tr th:only-of-type {\n",
              "        vertical-align: middle;\n",
              "    }\n",
              "\n",
              "    .dataframe tbody tr th {\n",
              "        vertical-align: top;\n",
              "    }\n",
              "\n",
              "    .dataframe thead th {\n",
              "        text-align: right;\n",
              "    }\n",
              "</style>\n",
              "<table border=\"1\" class=\"dataframe\">\n",
              "  <thead>\n",
              "    <tr style=\"text-align: right;\">\n",
              "      <th></th>\n",
              "      <th>age</th>\n",
              "      <th>job</th>\n",
              "      <th>marital</th>\n",
              "      <th>education</th>\n",
              "      <th>default</th>\n",
              "      <th>housing</th>\n",
              "      <th>loan</th>\n",
              "      <th>contact</th>\n",
              "      <th>month</th>\n",
              "      <th>day_of_week</th>\n",
              "      <th>...</th>\n",
              "      <th>campaign</th>\n",
              "      <th>pdays</th>\n",
              "      <th>previous</th>\n",
              "      <th>poutcome</th>\n",
              "      <th>emp.var.rate</th>\n",
              "      <th>cons.price.idx</th>\n",
              "      <th>cons.conf.idx</th>\n",
              "      <th>euribor3m</th>\n",
              "      <th>nr.employed</th>\n",
              "      <th>y</th>\n",
              "    </tr>\n",
              "  </thead>\n",
              "  <tbody>\n",
              "    <tr>\n",
              "      <th>477</th>\n",
              "      <td>18</td>\n",
              "      <td>student</td>\n",
              "      <td>single</td>\n",
              "      <td>unknown</td>\n",
              "      <td>no</td>\n",
              "      <td>no</td>\n",
              "      <td>no</td>\n",
              "      <td>cellular</td>\n",
              "      <td>sep</td>\n",
              "      <td>thu</td>\n",
              "      <td>...</td>\n",
              "      <td>1</td>\n",
              "      <td>3</td>\n",
              "      <td>1</td>\n",
              "      <td>success</td>\n",
              "      <td>-3.40</td>\n",
              "      <td>92.38</td>\n",
              "      <td>-29.80</td>\n",
              "      <td>0.81</td>\n",
              "      <td>5017.50</td>\n",
              "      <td>yes</td>\n",
              "    </tr>\n",
              "    <tr>\n",
              "      <th>899</th>\n",
              "      <td>18</td>\n",
              "      <td>student</td>\n",
              "      <td>single</td>\n",
              "      <td>unknown</td>\n",
              "      <td>no</td>\n",
              "      <td>yes</td>\n",
              "      <td>yes</td>\n",
              "      <td>telephone</td>\n",
              "      <td>aug</td>\n",
              "      <td>wed</td>\n",
              "      <td>...</td>\n",
              "      <td>1</td>\n",
              "      <td>999</td>\n",
              "      <td>0</td>\n",
              "      <td>nonexistent</td>\n",
              "      <td>-1.70</td>\n",
              "      <td>94.03</td>\n",
              "      <td>-38.30</td>\n",
              "      <td>0.90</td>\n",
              "      <td>4991.60</td>\n",
              "      <td>no</td>\n",
              "    </tr>\n",
              "    <tr>\n",
              "      <th>1661</th>\n",
              "      <td>18</td>\n",
              "      <td>student</td>\n",
              "      <td>single</td>\n",
              "      <td>unknown</td>\n",
              "      <td>no</td>\n",
              "      <td>yes</td>\n",
              "      <td>no</td>\n",
              "      <td>cellular</td>\n",
              "      <td>may</td>\n",
              "      <td>thu</td>\n",
              "      <td>...</td>\n",
              "      <td>1</td>\n",
              "      <td>7</td>\n",
              "      <td>2</td>\n",
              "      <td>success</td>\n",
              "      <td>-1.80</td>\n",
              "      <td>93.88</td>\n",
              "      <td>-40.00</td>\n",
              "      <td>0.68</td>\n",
              "      <td>5008.70</td>\n",
              "      <td>no</td>\n",
              "    </tr>\n",
              "    <tr>\n",
              "      <th>1887</th>\n",
              "      <td>19</td>\n",
              "      <td>student</td>\n",
              "      <td>single</td>\n",
              "      <td>high.school</td>\n",
              "      <td>unknown</td>\n",
              "      <td>yes</td>\n",
              "      <td>no</td>\n",
              "      <td>cellular</td>\n",
              "      <td>may</td>\n",
              "      <td>tue</td>\n",
              "      <td>...</td>\n",
              "      <td>4</td>\n",
              "      <td>999</td>\n",
              "      <td>0</td>\n",
              "      <td>nonexistent</td>\n",
              "      <td>-1.80</td>\n",
              "      <td>92.89</td>\n",
              "      <td>-46.20</td>\n",
              "      <td>1.34</td>\n",
              "      <td>5099.10</td>\n",
              "      <td>no</td>\n",
              "    </tr>\n",
              "    <tr>\n",
              "      <th>3268</th>\n",
              "      <td>20</td>\n",
              "      <td>blue-collar</td>\n",
              "      <td>single</td>\n",
              "      <td>high.school</td>\n",
              "      <td>no</td>\n",
              "      <td>yes</td>\n",
              "      <td>no</td>\n",
              "      <td>cellular</td>\n",
              "      <td>may</td>\n",
              "      <td>wed</td>\n",
              "      <td>...</td>\n",
              "      <td>1</td>\n",
              "      <td>999</td>\n",
              "      <td>0</td>\n",
              "      <td>nonexistent</td>\n",
              "      <td>-1.80</td>\n",
              "      <td>92.89</td>\n",
              "      <td>-46.20</td>\n",
              "      <td>1.33</td>\n",
              "      <td>5099.10</td>\n",
              "      <td>no</td>\n",
              "    </tr>\n",
              "  </tbody>\n",
              "</table>\n",
              "<p>5 rows × 21 columns</p>\n",
              "</div>"
            ],
            "text/plain": [
              "      age          job marital    education  default housing loan    contact  \\\n",
              "477    18      student  single      unknown       no      no   no   cellular   \n",
              "899    18      student  single      unknown       no     yes  yes  telephone   \n",
              "1661   18      student  single      unknown       no     yes   no   cellular   \n",
              "1887   19      student  single  high.school  unknown     yes   no   cellular   \n",
              "3268   20  blue-collar  single  high.school       no     yes   no   cellular   \n",
              "\n",
              "     month day_of_week  ...  campaign  pdays  previous     poutcome  \\\n",
              "477    sep         thu  ...         1      3         1      success   \n",
              "899    aug         wed  ...         1    999         0  nonexistent   \n",
              "1661   may         thu  ...         1      7         2      success   \n",
              "1887   may         tue  ...         4    999         0  nonexistent   \n",
              "3268   may         wed  ...         1    999         0  nonexistent   \n",
              "\n",
              "     emp.var.rate  cons.price.idx  cons.conf.idx  euribor3m  nr.employed    y  \n",
              "477         -3.40           92.38         -29.80       0.81      5017.50  yes  \n",
              "899         -1.70           94.03         -38.30       0.90      4991.60   no  \n",
              "1661        -1.80           93.88         -40.00       0.68      5008.70   no  \n",
              "1887        -1.80           92.89         -46.20       1.34      5099.10   no  \n",
              "3268        -1.80           92.89         -46.20       1.33      5099.10   no  \n",
              "\n",
              "[5 rows x 21 columns]"
            ]
          },
          "execution_count": 813,
          "metadata": {},
          "output_type": "execute_result"
        }
      ],
      "source": [
        "df.sort_values(by = [\"age\", \"duration\"], ascending = [True, False]).head()"
      ]
    },
    {
      "cell_type": "code",
      "execution_count": 814,
      "metadata": {},
      "outputs": [
        {
          "data": {
            "text/plain": [
              "477     385\n",
              "899     297\n",
              "1661    183\n",
              "1887    338\n",
              "3268    410\n",
              "Name: duration, dtype: int64"
            ]
          },
          "execution_count": 814,
          "metadata": {},
          "output_type": "execute_result"
        }
      ],
      "source": [
        "df_sorted= df.sort_values(by = [\"age\", \"duration\"], ascending = [True, False]).head()\n",
        "df_sorted['duration'].head()"
      ]
    },
    {
      "cell_type": "markdown",
      "metadata": {
        "id": "FcV8UApXW0ud"
      },
      "source": [
        "We see that the youngest customers are at the `age` of 18, and the call `duration` exceeded 5 minutes (300 seconds) only for three clients, which indicates the ineffectiveness of long-term interaction with such clients.\n"
      ]
    },
    {
      "cell_type": "markdown",
      "metadata": {
        "id": "YHsAC2Vr13aO"
      },
      "source": [
        "### Application of functions: `apply`, `map` etc.\n"
      ]
    },
    {
      "cell_type": "markdown",
      "metadata": {
        "id": "UhFtQbGX13aP"
      },
      "source": [
        "**Apply the function to each column:**\n"
      ]
    },
    {
      "cell_type": "code",
      "execution_count": 815,
      "metadata": {
        "colab": {
          "base_uri": "https://localhost:8080/"
        },
        "id": "f9tABUDp13aQ",
        "outputId": "6fec4b19-5ac8-4533-a3ec-0f3262e25036"
      },
      "outputs": [
        {
          "data": {
            "text/plain": [
              "age                      88\n",
              "job                 unknown\n",
              "marital             unknown\n",
              "education           unknown\n",
              "default                 yes\n",
              "housing                 yes\n",
              "loan                    yes\n",
              "contact           telephone\n",
              "month                   sep\n",
              "day_of_week             wed\n",
              "duration               3643\n",
              "campaign                 35\n",
              "pdays                   999\n",
              "previous                  6\n",
              "poutcome            success\n",
              "emp.var.rate           1.40\n",
              "cons.price.idx        94.77\n",
              "cons.conf.idx        -26.90\n",
              "euribor3m              5.04\n",
              "nr.employed         5228.10\n",
              "y                       yes\n",
              "dtype: object"
            ]
          },
          "execution_count": 815,
          "metadata": {},
          "output_type": "execute_result"
        }
      ],
      "source": [
        "df.apply(np.max)"
      ]
    },
    {
      "cell_type": "markdown",
      "metadata": {
        "id": "2BqG93kcXW57"
      },
      "source": [
        "The oldest client is 88 years old (`age` = 88), and the number of contacts with one of the customers reached 35 (`campaign` = 35).\n"
      ]
    },
    {
      "cell_type": "markdown",
      "metadata": {
        "id": "RmAMfWTG13aS"
      },
      "source": [
        "**Apply the function to each column cell**\n"
      ]
    },
    {
      "cell_type": "markdown",
      "metadata": {
        "id": "ze8tUYHP13aT"
      },
      "source": [
        "The `map` can also be used for **the values ​​replacement in a column** by passing it as an argument dictionary in form of ` {old_value: new_value}  `."
      ]
    },
    {
      "cell_type": "code",
      "execution_count": 816,
      "metadata": {
        "colab": {
          "base_uri": "https://localhost:8080/",
          "height": 300
        },
        "id": "DchqdQ0_13aU",
        "outputId": "6a9ebcb6-d361-4e32-ba73-62f16c91d4a2"
      },
      "outputs": [
        {
          "data": {
            "text/html": [
              "<div>\n",
              "<style scoped>\n",
              "    .dataframe tbody tr th:only-of-type {\n",
              "        vertical-align: middle;\n",
              "    }\n",
              "\n",
              "    .dataframe tbody tr th {\n",
              "        vertical-align: top;\n",
              "    }\n",
              "\n",
              "    .dataframe thead th {\n",
              "        text-align: right;\n",
              "    }\n",
              "</style>\n",
              "<table border=\"1\" class=\"dataframe\">\n",
              "  <thead>\n",
              "    <tr style=\"text-align: right;\">\n",
              "      <th></th>\n",
              "      <th>age</th>\n",
              "      <th>job</th>\n",
              "      <th>marital</th>\n",
              "      <th>education</th>\n",
              "      <th>default</th>\n",
              "      <th>housing</th>\n",
              "      <th>loan</th>\n",
              "      <th>contact</th>\n",
              "      <th>month</th>\n",
              "      <th>day_of_week</th>\n",
              "      <th>...</th>\n",
              "      <th>campaign</th>\n",
              "      <th>pdays</th>\n",
              "      <th>previous</th>\n",
              "      <th>poutcome</th>\n",
              "      <th>emp.var.rate</th>\n",
              "      <th>cons.price.idx</th>\n",
              "      <th>cons.conf.idx</th>\n",
              "      <th>euribor3m</th>\n",
              "      <th>nr.employed</th>\n",
              "      <th>y</th>\n",
              "    </tr>\n",
              "  </thead>\n",
              "  <tbody>\n",
              "    <tr>\n",
              "      <th>0</th>\n",
              "      <td>30</td>\n",
              "      <td>blue-collar</td>\n",
              "      <td>married</td>\n",
              "      <td>basic.9y</td>\n",
              "      <td>no</td>\n",
              "      <td>yes</td>\n",
              "      <td>no</td>\n",
              "      <td>cellular</td>\n",
              "      <td>may</td>\n",
              "      <td>fri</td>\n",
              "      <td>...</td>\n",
              "      <td>2</td>\n",
              "      <td>999</td>\n",
              "      <td>0</td>\n",
              "      <td>nonexistent</td>\n",
              "      <td>-1.80</td>\n",
              "      <td>92.89</td>\n",
              "      <td>-46.20</td>\n",
              "      <td>1.31</td>\n",
              "      <td>5099.10</td>\n",
              "      <td>0</td>\n",
              "    </tr>\n",
              "    <tr>\n",
              "      <th>1</th>\n",
              "      <td>39</td>\n",
              "      <td>services</td>\n",
              "      <td>single</td>\n",
              "      <td>high.school</td>\n",
              "      <td>no</td>\n",
              "      <td>no</td>\n",
              "      <td>no</td>\n",
              "      <td>telephone</td>\n",
              "      <td>may</td>\n",
              "      <td>fri</td>\n",
              "      <td>...</td>\n",
              "      <td>4</td>\n",
              "      <td>999</td>\n",
              "      <td>0</td>\n",
              "      <td>nonexistent</td>\n",
              "      <td>1.10</td>\n",
              "      <td>93.99</td>\n",
              "      <td>-36.40</td>\n",
              "      <td>4.86</td>\n",
              "      <td>5191.00</td>\n",
              "      <td>0</td>\n",
              "    </tr>\n",
              "    <tr>\n",
              "      <th>2</th>\n",
              "      <td>25</td>\n",
              "      <td>services</td>\n",
              "      <td>married</td>\n",
              "      <td>high.school</td>\n",
              "      <td>no</td>\n",
              "      <td>yes</td>\n",
              "      <td>no</td>\n",
              "      <td>telephone</td>\n",
              "      <td>jun</td>\n",
              "      <td>wed</td>\n",
              "      <td>...</td>\n",
              "      <td>1</td>\n",
              "      <td>999</td>\n",
              "      <td>0</td>\n",
              "      <td>nonexistent</td>\n",
              "      <td>1.40</td>\n",
              "      <td>94.47</td>\n",
              "      <td>-41.80</td>\n",
              "      <td>4.96</td>\n",
              "      <td>5228.10</td>\n",
              "      <td>0</td>\n",
              "    </tr>\n",
              "    <tr>\n",
              "      <th>3</th>\n",
              "      <td>38</td>\n",
              "      <td>services</td>\n",
              "      <td>married</td>\n",
              "      <td>basic.9y</td>\n",
              "      <td>no</td>\n",
              "      <td>unknown</td>\n",
              "      <td>unknown</td>\n",
              "      <td>telephone</td>\n",
              "      <td>jun</td>\n",
              "      <td>fri</td>\n",
              "      <td>...</td>\n",
              "      <td>3</td>\n",
              "      <td>999</td>\n",
              "      <td>0</td>\n",
              "      <td>nonexistent</td>\n",
              "      <td>1.40</td>\n",
              "      <td>94.47</td>\n",
              "      <td>-41.80</td>\n",
              "      <td>4.96</td>\n",
              "      <td>5228.10</td>\n",
              "      <td>0</td>\n",
              "    </tr>\n",
              "    <tr>\n",
              "      <th>4</th>\n",
              "      <td>47</td>\n",
              "      <td>admin.</td>\n",
              "      <td>married</td>\n",
              "      <td>university.degree</td>\n",
              "      <td>no</td>\n",
              "      <td>yes</td>\n",
              "      <td>no</td>\n",
              "      <td>cellular</td>\n",
              "      <td>nov</td>\n",
              "      <td>mon</td>\n",
              "      <td>...</td>\n",
              "      <td>1</td>\n",
              "      <td>999</td>\n",
              "      <td>0</td>\n",
              "      <td>nonexistent</td>\n",
              "      <td>-0.10</td>\n",
              "      <td>93.20</td>\n",
              "      <td>-42.00</td>\n",
              "      <td>4.19</td>\n",
              "      <td>5195.80</td>\n",
              "      <td>0</td>\n",
              "    </tr>\n",
              "  </tbody>\n",
              "</table>\n",
              "<p>5 rows × 21 columns</p>\n",
              "</div>"
            ],
            "text/plain": [
              "   age          job  marital          education default  housing     loan  \\\n",
              "0   30  blue-collar  married           basic.9y      no      yes       no   \n",
              "1   39     services   single        high.school      no       no       no   \n",
              "2   25     services  married        high.school      no      yes       no   \n",
              "3   38     services  married           basic.9y      no  unknown  unknown   \n",
              "4   47       admin.  married  university.degree      no      yes       no   \n",
              "\n",
              "     contact month day_of_week  ...  campaign  pdays  previous     poutcome  \\\n",
              "0   cellular   may         fri  ...         2    999         0  nonexistent   \n",
              "1  telephone   may         fri  ...         4    999         0  nonexistent   \n",
              "2  telephone   jun         wed  ...         1    999         0  nonexistent   \n",
              "3  telephone   jun         fri  ...         3    999         0  nonexistent   \n",
              "4   cellular   nov         mon  ...         1    999         0  nonexistent   \n",
              "\n",
              "  emp.var.rate  cons.price.idx  cons.conf.idx  euribor3m  nr.employed  y  \n",
              "0        -1.80           92.89         -46.20       1.31      5099.10  0  \n",
              "1         1.10           93.99         -36.40       4.86      5191.00  0  \n",
              "2         1.40           94.47         -41.80       4.96      5228.10  0  \n",
              "3         1.40           94.47         -41.80       4.96      5228.10  0  \n",
              "4        -0.10           93.20         -42.00       4.19      5195.80  0  \n",
              "\n",
              "[5 rows x 21 columns]"
            ]
          },
          "execution_count": 816,
          "metadata": {},
          "output_type": "execute_result"
        }
      ],
      "source": [
        "d = {\"no\": 0, \"yes\": 1}\n",
        "df[\"y\"] = df[\"y\"].map(d)\n",
        "df.head()"
      ]
    },
    {
      "cell_type": "markdown",
      "metadata": {
        "id": "1XLFcjst13aE"
      },
      "source": [
        "### Indexing and extracting data\n"
      ]
    },
    {
      "cell_type": "markdown",
      "metadata": {
        "id": "5YmO8SzC13aF"
      },
      "source": [
        "A `DataFrame` can be indexed in many ways. In this regard, consider various ways of indexing and extracting data from the DataFrame with simple question examples.\n",
        "\n",
        "We can use the code `dataframe ['name']` to extract a separate column. \n",
        "We use this to answer the question: **What is the share of clients attracted in our DataFrame?**\n"
      ]
    },
    {
      "cell_type": "code",
      "execution_count": 817,
      "metadata": {},
      "outputs": [
        {
          "name": "stdout",
          "output_type": "stream",
          "text": [
            "Share of attracted clients = 10.9%\n"
          ]
        }
      ],
      "source": [
        "print(\"Share of attracted clients =\", '{:.1%}'.format(df[\"y\"].mean()))"
      ]
    },
    {
      "cell_type": "markdown",
      "metadata": {
        "id": "frbJ1GQp13aG"
      },
      "source": [
        "10.9% is a rather bad indicator for a bank, with such a percentage of attracted customers a business can collapse.\n"
      ]
    },
    {
      "cell_type": "markdown",
      "metadata": {
        "id": "cauScC7f13aG"
      },
      "source": [
        "Logical indexation by one column of a `DataFrame` is very convenient. It looks like this: `df [p(df['Name']]`, where`  p ` is a certain logical condition that is checked for each element of the `Name` column. The result of such an indexation is a `DataFrame` consisting only of the rows satisfying the condition `p` by the `Name` column.\n",
        "\n",
        "We use this to answer the question: **What are the mean values ​​of numerical features among the attracted clients?**"
      ]
    },
    {
      "cell_type": "code",
      "execution_count": 867,
      "metadata": {
        "colab": {
          "base_uri": "https://localhost:8080/"
        },
        "id": "f8G8Ce_I13aF",
        "outputId": "2a1e312a-b0a8-4b5a-c1cd-b1cfd28a0f90"
      },
      "outputs": [
        {
          "name": "stdout",
          "output_type": "stream",
          "text": [
            "Average age of the attracted clients is about= 41.89\n",
            "Minimum campaign required to attract clients= 1.98\n"
          ]
        },
        {
          "data": {
            "text/html": [
              "<div>\n",
              "<style scoped>\n",
              "    .dataframe tbody tr th:only-of-type {\n",
              "        vertical-align: middle;\n",
              "    }\n",
              "\n",
              "    .dataframe tbody tr th {\n",
              "        vertical-align: top;\n",
              "    }\n",
              "\n",
              "    .dataframe thead th {\n",
              "        text-align: right;\n",
              "    }\n",
              "</style>\n",
              "<table border=\"1\" class=\"dataframe\">\n",
              "  <thead>\n",
              "    <tr style=\"text-align: right;\">\n",
              "      <th></th>\n",
              "      <th>age</th>\n",
              "      <th>duration</th>\n",
              "      <th>campaign</th>\n",
              "      <th>pdays</th>\n",
              "      <th>previous</th>\n",
              "      <th>emp.var.rate</th>\n",
              "      <th>cons.price.idx</th>\n",
              "      <th>cons.conf.idx</th>\n",
              "      <th>euribor3m</th>\n",
              "      <th>nr.employed</th>\n",
              "      <th>y</th>\n",
              "    </tr>\n",
              "  </thead>\n",
              "  <tbody>\n",
              "    <tr>\n",
              "      <th>mean</th>\n",
              "      <td>41.89</td>\n",
              "      <td>560.79</td>\n",
              "      <td>1.98</td>\n",
              "      <td>778.72</td>\n",
              "      <td>0.59</td>\n",
              "      <td>-1.18</td>\n",
              "      <td>93.42</td>\n",
              "      <td>-39.79</td>\n",
              "      <td>2.15</td>\n",
              "      <td>5093.12</td>\n",
              "      <td>1.00</td>\n",
              "    </tr>\n",
              "  </tbody>\n",
              "</table>\n",
              "</div>"
            ],
            "text/plain": [
              "       age  duration  campaign  pdays  previous  emp.var.rate  cons.price.idx  \\\n",
              "mean 41.89    560.79      1.98 778.72      0.59         -1.18           93.42   \n",
              "\n",
              "      cons.conf.idx  euribor3m  nr.employed    y  \n",
              "mean         -39.79       2.15      5093.12 1.00  "
            ]
          },
          "execution_count": 867,
          "metadata": {},
          "output_type": "execute_result"
        }
      ],
      "source": [
        "print('Average age of the attracted clients is about=', round(df[df['y'] == 1]['age'].mean(), 2))\n",
        "print('Minimum campaign required to attract clients=', round(df[df['y'] == 1]['campaign'].mean(), 2))\n",
        "acm= df[df['y'] == 1].describe()\n",
        "acm[1:2]"
      ]
    },
    {
      "cell_type": "markdown",
      "metadata": {
        "id": "hqYEmztJY-Vf"
      },
      "source": [
        "Thus, the average age of the attracted clients is about 42 (`age` = 41.89), and 2 calls were required to attract them (`campaign` = 1.98).\n"
      ]
    },
    {
      "cell_type": "markdown",
      "metadata": {
        "id": "ModvYJAq13aH"
      },
      "source": [
        "Combining two previous types of indexation, we will answer the question: **What is the average call duration for the attracted clients**?\n"
      ]
    },
    {
      "cell_type": "code",
      "execution_count": 856,
      "metadata": {
        "colab": {
          "base_uri": "https://localhost:8080/"
        },
        "id": "Ubf3zpbk13aH",
        "outputId": "9b488e88-196d-41de-ce19-e3beca7a016f"
      },
      "outputs": [
        {
          "name": "stdout",
          "output_type": "stream",
          "text": [
            "Average call duration for attracted clients = 9.0 min 20 sec\n"
          ]
        }
      ],
      "source": [
        "acd = round(df[df[\"y\"] == 1][\"duration\"].mean(), 2)\n",
        "acd_in_min = acd // 60\n",
        "print(\"Average call duration for attracted clients =\", acd_in_min, \"min\", int(acd) % 60, \"sec\")"
      ]
    },
    {
      "cell_type": "markdown",
      "metadata": {
        "id": "C9a34m70ZgRa"
      },
      "source": [
        "So, the average duration of a successful call is almost 560 seconds, that is, nearly 10 minutes.\n"
      ]
    },
    {
      "cell_type": "markdown",
      "metadata": {
        "id": "95VAbA6Z13aJ"
      },
      "source": [
        "**What is the average age of attracted (`y == 1`) and unmarried (`'marital' == 'single'`) clients?**\n"
      ]
    },
    {
      "cell_type": "code",
      "execution_count": 858,
      "metadata": {
        "colab": {
          "base_uri": "https://localhost:8080/"
        },
        "id": "q9Mx-i4r13aK",
        "outputId": "8e20c458-5cfe-4e85-fa98-e9ba8a21eee8"
      },
      "outputs": [
        {
          "name": "stdout",
          "output_type": "stream",
          "text": [
            "Average age of Unmarried attracted clients = 32 years\n"
          ]
        }
      ],
      "source": [
        "print(\"Average age of Unmarried attracted clients =\", int(df[(df[\"y\"] == 1) & (df[\"marital\"] == \"single\")][\"age\"].mean()), \"years\")"
      ]
    },
    {
      "cell_type": "markdown",
      "metadata": {
        "id": "5yLFwNHbZ5tm"
      },
      "source": [
        "The average age of unmarried attracted clients is 32, which should be considered when working with such clients.\n"
      ]
    },
    {
      "cell_type": "markdown",
      "metadata": {
        "id": "5-pVIUlf13aN"
      },
      "source": [
        "If we need to get the first or last line of the DataFrame, we can use the code `df[:1]` or `df[-1:]`:\n"
      ]
    },
    {
      "cell_type": "code",
      "execution_count": 821,
      "metadata": {
        "colab": {
          "base_uri": "https://localhost:8080/",
          "height": 174
        },
        "id": "Q6uHjTaG13aN",
        "outputId": "729a6ff3-cd6f-48bf-870d-041f3a4596f7",
        "scrolled": true
      },
      "outputs": [
        {
          "data": {
            "text/html": [
              "<div>\n",
              "<style scoped>\n",
              "    .dataframe tbody tr th:only-of-type {\n",
              "        vertical-align: middle;\n",
              "    }\n",
              "\n",
              "    .dataframe tbody tr th {\n",
              "        vertical-align: top;\n",
              "    }\n",
              "\n",
              "    .dataframe thead th {\n",
              "        text-align: right;\n",
              "    }\n",
              "</style>\n",
              "<table border=\"1\" class=\"dataframe\">\n",
              "  <thead>\n",
              "    <tr style=\"text-align: right;\">\n",
              "      <th></th>\n",
              "      <th>age</th>\n",
              "      <th>job</th>\n",
              "      <th>marital</th>\n",
              "      <th>education</th>\n",
              "      <th>default</th>\n",
              "      <th>housing</th>\n",
              "      <th>loan</th>\n",
              "      <th>contact</th>\n",
              "      <th>month</th>\n",
              "      <th>day_of_week</th>\n",
              "      <th>...</th>\n",
              "      <th>campaign</th>\n",
              "      <th>pdays</th>\n",
              "      <th>previous</th>\n",
              "      <th>poutcome</th>\n",
              "      <th>emp.var.rate</th>\n",
              "      <th>cons.price.idx</th>\n",
              "      <th>cons.conf.idx</th>\n",
              "      <th>euribor3m</th>\n",
              "      <th>nr.employed</th>\n",
              "      <th>y</th>\n",
              "    </tr>\n",
              "  </thead>\n",
              "  <tbody>\n",
              "    <tr>\n",
              "      <th>4118</th>\n",
              "      <td>34</td>\n",
              "      <td>management</td>\n",
              "      <td>single</td>\n",
              "      <td>high.school</td>\n",
              "      <td>no</td>\n",
              "      <td>yes</td>\n",
              "      <td>no</td>\n",
              "      <td>cellular</td>\n",
              "      <td>nov</td>\n",
              "      <td>wed</td>\n",
              "      <td>...</td>\n",
              "      <td>1</td>\n",
              "      <td>999</td>\n",
              "      <td>0</td>\n",
              "      <td>nonexistent</td>\n",
              "      <td>-0.10</td>\n",
              "      <td>93.20</td>\n",
              "      <td>-42.00</td>\n",
              "      <td>4.12</td>\n",
              "      <td>5195.80</td>\n",
              "      <td>0</td>\n",
              "    </tr>\n",
              "  </tbody>\n",
              "</table>\n",
              "<p>1 rows × 21 columns</p>\n",
              "</div>"
            ],
            "text/plain": [
              "      age         job marital    education default housing loan   contact  \\\n",
              "4118   34  management  single  high.school      no     yes   no  cellular   \n",
              "\n",
              "     month day_of_week  ...  campaign  pdays  previous     poutcome  \\\n",
              "4118   nov         wed  ...         1    999         0  nonexistent   \n",
              "\n",
              "     emp.var.rate  cons.price.idx  cons.conf.idx  euribor3m  nr.employed  y  \n",
              "4118        -0.10           93.20         -42.00       4.12      5195.80  0  \n",
              "\n",
              "[1 rows x 21 columns]"
            ]
          },
          "execution_count": 821,
          "metadata": {},
          "output_type": "execute_result"
        }
      ],
      "source": [
        "df[-1:]"
      ]
    },
    {
      "cell_type": "markdown",
      "metadata": {
        "id": "1nYYsB2W13aY"
      },
      "source": [
        "## Pivot tables\n"
      ]
    },
    {
      "cell_type": "markdown",
      "metadata": {
        "id": "AcIkYgoQ13aY"
      },
      "source": [
        "Suppose we want to see how observations in our sample are distributed in the context of two features - `y` and `marital`. To do this, we can build **cross tabulation** by the `crosstab` method."
      ]
    },
    {
      "cell_type": "code",
      "execution_count": 822,
      "metadata": {
        "colab": {
          "base_uri": "https://localhost:8080/",
          "height": 143
        },
        "id": "Xs4C3jZ213aa",
        "outputId": "6b0b9504-af36-43c8-85fa-ee7bde0c8213"
      },
      "outputs": [
        {
          "data": {
            "text/html": [
              "<div>\n",
              "<style scoped>\n",
              "    .dataframe tbody tr th:only-of-type {\n",
              "        vertical-align: middle;\n",
              "    }\n",
              "\n",
              "    .dataframe tbody tr th {\n",
              "        vertical-align: top;\n",
              "    }\n",
              "\n",
              "    .dataframe thead th {\n",
              "        text-align: right;\n",
              "    }\n",
              "</style>\n",
              "<table border=\"1\" class=\"dataframe\">\n",
              "  <thead>\n",
              "    <tr style=\"text-align: right;\">\n",
              "      <th>marital</th>\n",
              "      <th>divorced</th>\n",
              "      <th>married</th>\n",
              "      <th>single</th>\n",
              "      <th>unknown</th>\n",
              "    </tr>\n",
              "    <tr>\n",
              "      <th>y</th>\n",
              "      <th></th>\n",
              "      <th></th>\n",
              "      <th></th>\n",
              "      <th></th>\n",
              "    </tr>\n",
              "  </thead>\n",
              "  <tbody>\n",
              "    <tr>\n",
              "      <th>0</th>\n",
              "      <td>403</td>\n",
              "      <td>2257</td>\n",
              "      <td>998</td>\n",
              "      <td>10</td>\n",
              "    </tr>\n",
              "    <tr>\n",
              "      <th>1</th>\n",
              "      <td>43</td>\n",
              "      <td>252</td>\n",
              "      <td>155</td>\n",
              "      <td>1</td>\n",
              "    </tr>\n",
              "  </tbody>\n",
              "</table>\n",
              "</div>"
            ],
            "text/plain": [
              "marital  divorced  married  single  unknown\n",
              "y                                          \n",
              "0             403     2257     998       10\n",
              "1              43      252     155        1"
            ]
          },
          "execution_count": 822,
          "metadata": {},
          "output_type": "execute_result"
        }
      ],
      "source": [
        "pd.crosstab(df[\"y\"], df[\"marital\"])"
      ]
    },
    {
      "cell_type": "markdown",
      "metadata": {
        "id": "cS4ybt3rai_A"
      },
      "source": [
        "The result shows that the number of attracted married clients is 252 (`y = 1` for `married`) from the total number.\n"
      ]
    },
    {
      "cell_type": "code",
      "execution_count": 872,
      "metadata": {
        "colab": {
          "base_uri": "https://localhost:8080/",
          "height": 143
        },
        "id": "4sVTC0mR13aa",
        "outputId": "ed5d0e49-f127-4348-e362-f004b58f6e4b",
        "scrolled": true
      },
      "outputs": [
        {
          "data": {
            "text/html": [
              "<div>\n",
              "<style scoped>\n",
              "    .dataframe tbody tr th:only-of-type {\n",
              "        vertical-align: middle;\n",
              "    }\n",
              "\n",
              "    .dataframe tbody tr th {\n",
              "        vertical-align: top;\n",
              "    }\n",
              "\n",
              "    .dataframe thead th {\n",
              "        text-align: right;\n",
              "    }\n",
              "</style>\n",
              "<table border=\"1\" class=\"dataframe\">\n",
              "  <thead>\n",
              "    <tr style=\"text-align: right;\">\n",
              "      <th>marital</th>\n",
              "      <th>divorced</th>\n",
              "      <th>married</th>\n",
              "      <th>single</th>\n",
              "      <th>unknown</th>\n",
              "    </tr>\n",
              "    <tr>\n",
              "      <th>y</th>\n",
              "      <th></th>\n",
              "      <th></th>\n",
              "      <th></th>\n",
              "      <th></th>\n",
              "    </tr>\n",
              "  </thead>\n",
              "  <tbody>\n",
              "    <tr>\n",
              "      <th>0</th>\n",
              "      <td>0.10</td>\n",
              "      <td>0.55</td>\n",
              "      <td>0.24</td>\n",
              "      <td>0.00</td>\n",
              "    </tr>\n",
              "    <tr>\n",
              "      <th>1</th>\n",
              "      <td>0.01</td>\n",
              "      <td>0.06</td>\n",
              "      <td>0.04</td>\n",
              "      <td>0.00</td>\n",
              "    </tr>\n",
              "  </tbody>\n",
              "</table>\n",
              "</div>"
            ],
            "text/plain": [
              "marital  divorced  married  single  unknown\n",
              "y                                          \n",
              "0            0.10     0.55    0.24     0.00\n",
              "1            0.01     0.06    0.04     0.00"
            ]
          },
          "execution_count": 872,
          "metadata": {},
          "output_type": "execute_result"
        }
      ],
      "source": [
        "pd.crosstab(df[\"y\"],\n",
        "            df[\"marital\"],\n",
        "            normalize = True)"
      ]
    },
    {
      "cell_type": "markdown",
      "metadata": {
        "id": "MONsLf1z13ab"
      },
      "source": [
        "We see that more than half of the clients (55%, column `married`) are married and have not issued a deposit.\n"
      ]
    },
    {
      "cell_type": "markdown",
      "metadata": {
        "id": "66M5GLW613ab"
      },
      "source": [
        "In `Pandas`, **pivot tables** are implemented by the method `pivot_table` with such parameters:\n",
        "\n",
        "*   `values` – a list of variables to calculate the necessary statistics,\n",
        "*   `index` – a list of variables to group data,\n",
        "*   `aggfunc` — values that we actually need to count by groups - the amount, average, maximum, minimum or something else.\n",
        "\n",
        "Let's find the average age and the call duration for different types of client employment `job`:\n"
      ]
    },
    {
      "cell_type": "code",
      "execution_count": 824,
      "metadata": {
        "colab": {
          "base_uri": "https://localhost:8080/",
          "height": 394
        },
        "id": "ebAVIoDt13ac",
        "outputId": "5c650b69-765c-416d-8681-eb24802f4498"
      },
      "outputs": [
        {
          "data": {
            "text/html": [
              "<div>\n",
              "<style scoped>\n",
              "    .dataframe tbody tr th:only-of-type {\n",
              "        vertical-align: middle;\n",
              "    }\n",
              "\n",
              "    .dataframe tbody tr th {\n",
              "        vertical-align: top;\n",
              "    }\n",
              "\n",
              "    .dataframe thead th {\n",
              "        text-align: right;\n",
              "    }\n",
              "</style>\n",
              "<table border=\"1\" class=\"dataframe\">\n",
              "  <thead>\n",
              "    <tr style=\"text-align: right;\">\n",
              "      <th></th>\n",
              "      <th>age</th>\n",
              "      <th>duration</th>\n",
              "    </tr>\n",
              "    <tr>\n",
              "      <th>job</th>\n",
              "      <th></th>\n",
              "      <th></th>\n",
              "    </tr>\n",
              "  </thead>\n",
              "  <tbody>\n",
              "    <tr>\n",
              "      <th>admin.</th>\n",
              "      <td>38.24</td>\n",
              "      <td>261.87</td>\n",
              "    </tr>\n",
              "    <tr>\n",
              "      <th>blue-collar</th>\n",
              "      <td>39.27</td>\n",
              "      <td>261.85</td>\n",
              "    </tr>\n",
              "    <tr>\n",
              "      <th>entrepreneur</th>\n",
              "      <td>42.20</td>\n",
              "      <td>249.20</td>\n",
              "    </tr>\n",
              "    <tr>\n",
              "      <th>housemaid</th>\n",
              "      <td>45.67</td>\n",
              "      <td>229.66</td>\n",
              "    </tr>\n",
              "    <tr>\n",
              "      <th>management</th>\n",
              "      <td>42.43</td>\n",
              "      <td>246.80</td>\n",
              "    </tr>\n",
              "    <tr>\n",
              "      <th>retired</th>\n",
              "      <td>60.87</td>\n",
              "      <td>311.79</td>\n",
              "    </tr>\n",
              "    <tr>\n",
              "      <th>self-employed</th>\n",
              "      <td>40.68</td>\n",
              "      <td>254.92</td>\n",
              "    </tr>\n",
              "    <tr>\n",
              "      <th>services</th>\n",
              "      <td>38.51</td>\n",
              "      <td>232.53</td>\n",
              "    </tr>\n",
              "    <tr>\n",
              "      <th>student</th>\n",
              "      <td>26.70</td>\n",
              "      <td>287.13</td>\n",
              "    </tr>\n",
              "    <tr>\n",
              "      <th>technician</th>\n",
              "      <td>38.62</td>\n",
              "      <td>253.29</td>\n",
              "    </tr>\n",
              "  </tbody>\n",
              "</table>\n",
              "</div>"
            ],
            "text/plain": [
              "                age  duration\n",
              "job                          \n",
              "admin.        38.24    261.87\n",
              "blue-collar   39.27    261.85\n",
              "entrepreneur  42.20    249.20\n",
              "housemaid     45.67    229.66\n",
              "management    42.43    246.80\n",
              "retired       60.87    311.79\n",
              "self-employed 40.68    254.92\n",
              "services      38.51    232.53\n",
              "student       26.70    287.13\n",
              "technician    38.62    253.29"
            ]
          },
          "execution_count": 824,
          "metadata": {},
          "output_type": "execute_result"
        }
      ],
      "source": [
        "df.pivot_table(\n",
        "    [\"age\", \"duration\"],\n",
        "    [\"job\"],\n",
        "    aggfunc = \"mean\",\n",
        ").head(10)"
      ]
    },
    {
      "cell_type": "markdown",
      "metadata": {
        "id": "7gj2inIUb1U7"
      },
      "source": [
        "The obtained results allow us to plan marketing banking campaigns more effectively.\n"
      ]
    },
    {
      "cell_type": "markdown",
      "metadata": {
        "id": "omZ1hAP1FVIH"
      },
      "source": [
        "## Visualization in Pandas\n"
      ]
    },
    {
      "cell_type": "markdown",
      "metadata": {
        "id": "G0sVMyqlFVIH"
      },
      "source": [
        "Method **scatter_matrix** allows you to visualize the pairwise dependencies between the features (as well as the distribution of each feature on the diagonal). We will do it for numerical features.\n"
      ]
    },
    {
      "cell_type": "code",
      "execution_count": 875,
      "metadata": {
        "colab": {
          "base_uri": "https://localhost:8080/",
          "height": 891
        },
        "id": "_8CueXbuFVII",
        "outputId": "1b244b44-939f-46d7-a4d9-13c500736ac3"
      },
      "outputs": [
        {
          "data": {
            "image/png": "[encoded data removed]",
            "text/plain": [
              "<Figure size 1500x1500 with 9 Axes>"
            ]
          },
          "metadata": {},
          "output_type": "display_data"
        }
      ],
      "source": [
        "pd.plotting.scatter_matrix(\n",
        "    df[[\"age\", \"duration\", \"campaign\"]],\n",
        "    figsize = (15, 15),\n",
        "    diagonal = \"kde\")\n",
        "plt.show()"
      ]
    },
    {
      "cell_type": "code",
      "execution_count": 826,
      "metadata": {},
      "outputs": [
        {
          "data": {
            "image/png": "[encoded data removed]",
            "text/plain": [
              "<Figure size 800x600 with 1 Axes>"
            ]
          },
          "metadata": {},
          "output_type": "display_data"
        }
      ],
      "source": [
        "df.plot(x='age', y='duration', kind='scatter')\n",
        "plt.show()"
      ]
    },
    {
      "cell_type": "markdown",
      "metadata": {
        "id": "i1RN2MBidNJX"
      },
      "source": [
        "A scatter matrix (pairs plot) compactly plots all the numeric variables we have in a dataset against each other.\n",
        "The plots on the main diagonal allow you to visually define the type of data distribution: the distribution is similar to normal for age, and for a call duration and the number of contacts, the [geometric distribution](https://en.wikipedia.org/wiki/geometric_distribution?utm_medium=Exinfluencer\\&utm_source=Exinfluencer\\&utm_content=000026UJ\\&utm_term=10006555\\&utm_id=NA-SkillsNetwork-Channel-SkillsNetworkQuickLabsEDA_Pandas_Banking_L126457256-2021-01-01) is more suitable.\n"
      ]
    },
    {
      "cell_type": "markdown",
      "metadata": {
        "id": "zEAaz2PIFVII"
      },
      "source": [
        "**Now We will build a separate histogram for `age` feature:**\n"
      ]
    },
    {
      "cell_type": "code",
      "execution_count": 827,
      "metadata": {
        "colab": {
          "base_uri": "https://localhost:8080/",
          "height": 391
        },
        "id": "SJOQB60_FVII",
        "outputId": "3c199473-4a39-484c-fdad-9fc915cf48eb"
      },
      "outputs": [
        {
          "data": {
            "text/plain": [
              "<Axes: >"
            ]
          },
          "execution_count": 827,
          "metadata": {},
          "output_type": "execute_result"
        },
        {
          "data": {
            "image/png": "[encoded data removed]",
            "text/plain": [
              "<Figure size 800x600 with 1 Axes>"
            ]
          },
          "metadata": {},
          "output_type": "display_data"
        }
      ],
      "source": [
        "df[\"age\"].hist()\n",
        "# df['age'].plot(kind='hist')"
      ]
    },
    {
      "cell_type": "markdown",
      "metadata": {
        "id": "CjnmCPbFefXl"
      },
      "source": [
        "The histogram shows that most of our clients are between the ages of 25 and 50, which corresponds to the actively working part of the population.\n"
      ]
    },
    {
      "cell_type": "markdown",
      "metadata": {
        "id": "-1A59i55FVIJ"
      },
      "source": [
        "**Now we will build histogram for features all together:**\n"
      ]
    },
    {
      "cell_type": "code",
      "execution_count": 877,
      "metadata": {
        "colab": {
          "base_uri": "https://localhost:8080/",
          "height": 607
        },
        "id": "H5oIPZa0FVIJ",
        "outputId": "9440552e-e53d-4a19-d5f8-b7d7cd84629a"
      },
      "outputs": [
        {
          "data": {
            "image/png": "[encoded data removed]",
            "text/plain": [
              "<Figure size 1500x1000 with 12 Axes>"
            ]
          },
          "metadata": {},
          "output_type": "display_data"
        }
      ],
      "source": [
        "df.hist(color = \"red\",\n",
        "        bins = 30,\n",
        "        figsize = (15, 10))\n",
        "plt.show()"
      ]
    },
    {
      "cell_type": "markdown",
      "metadata": {
        "id": "gb57x-rPe5mb"
      },
      "source": [
        "A visual analysis of the histograms presented allows us to make preliminary assumptions about the variability of the source data.\n"
      ]
    },
    {
      "cell_type": "code",
      "execution_count": 829,
      "metadata": {},
      "outputs": [
        {
          "data": {
            "image/png": "[encoded data removed]",
            "text/plain": [
              "<Figure size 800x600 with 1 Axes>"
            ]
          },
          "metadata": {},
          "output_type": "display_data"
        }
      ],
      "source": [
        "ax = df.groupby('job')['duration'].mean().plot(kind='bar', title='Average Duration of Contact by Job')\n",
        "ax.set_xlabel('Job')\n",
        "ax.set_ylabel('Average Duration')\n",
        "plt.show()"
      ]
    },
    {
      "cell_type": "markdown",
      "metadata": {
        "id": "VUMjKczqTThq"
      },
      "source": [
        "\n",
        "## Tasks\n"
      ]
    },
    {
      "cell_type": "markdown",
      "metadata": {
        "id": "jLCT0HXkTThr"
      },
      "source": [
        "In this section, we will solve some tasks with the source bank dataset.\n"
      ]
    },
    {
      "cell_type": "markdown",
      "metadata": {
        "id": "q7C0DMPdTThs"
      },
      "source": [
        "### Question 1\n"
      ]
    },
    {
      "cell_type": "markdown",
      "metadata": {
        "id": "psvWjxS4TThs"
      },
      "source": [
        "List of 10 clients with the largest number of campaigns.\n"
      ]
    },
    {
      "cell_type": "code",
      "execution_count": 832,
      "metadata": {
        "colab": {
          "base_uri": "https://localhost:8080/",
          "height": 474
        },
        "id": "unSAHwIPTTht",
        "outputId": "39eeb23b-25e3-4fde-ca05-cbc9a4fc7d53"
      },
      "outputs": [
        {
          "data": {
            "text/html": [
              "<div>\n",
              "<style scoped>\n",
              "    .dataframe tbody tr th:only-of-type {\n",
              "        vertical-align: middle;\n",
              "    }\n",
              "\n",
              "    .dataframe tbody tr th {\n",
              "        vertical-align: top;\n",
              "    }\n",
              "\n",
              "    .dataframe thead th {\n",
              "        text-align: right;\n",
              "    }\n",
              "</style>\n",
              "<table border=\"1\" class=\"dataframe\">\n",
              "  <thead>\n",
              "    <tr style=\"text-align: right;\">\n",
              "      <th></th>\n",
              "      <th>age</th>\n",
              "      <th>job</th>\n",
              "      <th>marital</th>\n",
              "      <th>education</th>\n",
              "      <th>default</th>\n",
              "      <th>housing</th>\n",
              "      <th>loan</th>\n",
              "      <th>contact</th>\n",
              "      <th>month</th>\n",
              "      <th>day_of_week</th>\n",
              "      <th>...</th>\n",
              "      <th>campaign</th>\n",
              "      <th>pdays</th>\n",
              "      <th>previous</th>\n",
              "      <th>poutcome</th>\n",
              "      <th>emp.var.rate</th>\n",
              "      <th>cons.price.idx</th>\n",
              "      <th>cons.conf.idx</th>\n",
              "      <th>euribor3m</th>\n",
              "      <th>nr.employed</th>\n",
              "      <th>y</th>\n",
              "    </tr>\n",
              "  </thead>\n",
              "  <tbody>\n",
              "    <tr>\n",
              "      <th>2552</th>\n",
              "      <td>31</td>\n",
              "      <td>services</td>\n",
              "      <td>single</td>\n",
              "      <td>high.school</td>\n",
              "      <td>no</td>\n",
              "      <td>no</td>\n",
              "      <td>no</td>\n",
              "      <td>cellular</td>\n",
              "      <td>jul</td>\n",
              "      <td>thu</td>\n",
              "      <td>...</td>\n",
              "      <td>35</td>\n",
              "      <td>999</td>\n",
              "      <td>0</td>\n",
              "      <td>nonexistent</td>\n",
              "      <td>1.40</td>\n",
              "      <td>93.92</td>\n",
              "      <td>-42.70</td>\n",
              "      <td>4.97</td>\n",
              "      <td>5228.10</td>\n",
              "      <td>0</td>\n",
              "    </tr>\n",
              "    <tr>\n",
              "      <th>3564</th>\n",
              "      <td>25</td>\n",
              "      <td>admin.</td>\n",
              "      <td>single</td>\n",
              "      <td>basic.9y</td>\n",
              "      <td>no</td>\n",
              "      <td>no</td>\n",
              "      <td>no</td>\n",
              "      <td>cellular</td>\n",
              "      <td>jul</td>\n",
              "      <td>thu</td>\n",
              "      <td>...</td>\n",
              "      <td>29</td>\n",
              "      <td>999</td>\n",
              "      <td>0</td>\n",
              "      <td>nonexistent</td>\n",
              "      <td>1.40</td>\n",
              "      <td>93.92</td>\n",
              "      <td>-42.70</td>\n",
              "      <td>4.97</td>\n",
              "      <td>5228.10</td>\n",
              "      <td>0</td>\n",
              "    </tr>\n",
              "    <tr>\n",
              "      <th>3241</th>\n",
              "      <td>39</td>\n",
              "      <td>services</td>\n",
              "      <td>married</td>\n",
              "      <td>high.school</td>\n",
              "      <td>no</td>\n",
              "      <td>yes</td>\n",
              "      <td>no</td>\n",
              "      <td>cellular</td>\n",
              "      <td>jul</td>\n",
              "      <td>thu</td>\n",
              "      <td>...</td>\n",
              "      <td>29</td>\n",
              "      <td>999</td>\n",
              "      <td>0</td>\n",
              "      <td>nonexistent</td>\n",
              "      <td>1.40</td>\n",
              "      <td>93.92</td>\n",
              "      <td>-42.70</td>\n",
              "      <td>4.97</td>\n",
              "      <td>5228.10</td>\n",
              "      <td>0</td>\n",
              "    </tr>\n",
              "    <tr>\n",
              "      <th>56</th>\n",
              "      <td>29</td>\n",
              "      <td>admin.</td>\n",
              "      <td>single</td>\n",
              "      <td>university.degree</td>\n",
              "      <td>no</td>\n",
              "      <td>yes</td>\n",
              "      <td>no</td>\n",
              "      <td>telephone</td>\n",
              "      <td>jun</td>\n",
              "      <td>fri</td>\n",
              "      <td>...</td>\n",
              "      <td>27</td>\n",
              "      <td>999</td>\n",
              "      <td>0</td>\n",
              "      <td>nonexistent</td>\n",
              "      <td>1.40</td>\n",
              "      <td>94.47</td>\n",
              "      <td>-41.80</td>\n",
              "      <td>4.96</td>\n",
              "      <td>5228.10</td>\n",
              "      <td>0</td>\n",
              "    </tr>\n",
              "    <tr>\n",
              "      <th>2485</th>\n",
              "      <td>41</td>\n",
              "      <td>technician</td>\n",
              "      <td>married</td>\n",
              "      <td>high.school</td>\n",
              "      <td>no</td>\n",
              "      <td>yes</td>\n",
              "      <td>no</td>\n",
              "      <td>telephone</td>\n",
              "      <td>jun</td>\n",
              "      <td>fri</td>\n",
              "      <td>...</td>\n",
              "      <td>24</td>\n",
              "      <td>999</td>\n",
              "      <td>0</td>\n",
              "      <td>nonexistent</td>\n",
              "      <td>1.40</td>\n",
              "      <td>94.47</td>\n",
              "      <td>-41.80</td>\n",
              "      <td>4.96</td>\n",
              "      <td>5228.10</td>\n",
              "      <td>0</td>\n",
              "    </tr>\n",
              "    <tr>\n",
              "      <th>2988</th>\n",
              "      <td>45</td>\n",
              "      <td>services</td>\n",
              "      <td>married</td>\n",
              "      <td>professional.course</td>\n",
              "      <td>no</td>\n",
              "      <td>yes</td>\n",
              "      <td>no</td>\n",
              "      <td>cellular</td>\n",
              "      <td>jul</td>\n",
              "      <td>mon</td>\n",
              "      <td>...</td>\n",
              "      <td>23</td>\n",
              "      <td>999</td>\n",
              "      <td>0</td>\n",
              "      <td>nonexistent</td>\n",
              "      <td>1.40</td>\n",
              "      <td>93.92</td>\n",
              "      <td>-42.70</td>\n",
              "      <td>4.96</td>\n",
              "      <td>5228.10</td>\n",
              "      <td>0</td>\n",
              "    </tr>\n",
              "    <tr>\n",
              "      <th>2202</th>\n",
              "      <td>29</td>\n",
              "      <td>technician</td>\n",
              "      <td>married</td>\n",
              "      <td>university.degree</td>\n",
              "      <td>no</td>\n",
              "      <td>no</td>\n",
              "      <td>no</td>\n",
              "      <td>cellular</td>\n",
              "      <td>jul</td>\n",
              "      <td>thu</td>\n",
              "      <td>...</td>\n",
              "      <td>23</td>\n",
              "      <td>999</td>\n",
              "      <td>0</td>\n",
              "      <td>nonexistent</td>\n",
              "      <td>1.40</td>\n",
              "      <td>93.92</td>\n",
              "      <td>-42.70</td>\n",
              "      <td>4.97</td>\n",
              "      <td>5228.10</td>\n",
              "      <td>0</td>\n",
              "    </tr>\n",
              "    <tr>\n",
              "      <th>713</th>\n",
              "      <td>43</td>\n",
              "      <td>admin.</td>\n",
              "      <td>married</td>\n",
              "      <td>high.school</td>\n",
              "      <td>no</td>\n",
              "      <td>yes</td>\n",
              "      <td>no</td>\n",
              "      <td>cellular</td>\n",
              "      <td>jul</td>\n",
              "      <td>mon</td>\n",
              "      <td>...</td>\n",
              "      <td>22</td>\n",
              "      <td>999</td>\n",
              "      <td>0</td>\n",
              "      <td>nonexistent</td>\n",
              "      <td>1.40</td>\n",
              "      <td>93.92</td>\n",
              "      <td>-42.70</td>\n",
              "      <td>4.96</td>\n",
              "      <td>5228.10</td>\n",
              "      <td>0</td>\n",
              "    </tr>\n",
              "    <tr>\n",
              "      <th>3569</th>\n",
              "      <td>31</td>\n",
              "      <td>admin.</td>\n",
              "      <td>single</td>\n",
              "      <td>high.school</td>\n",
              "      <td>no</td>\n",
              "      <td>no</td>\n",
              "      <td>no</td>\n",
              "      <td>telephone</td>\n",
              "      <td>may</td>\n",
              "      <td>thu</td>\n",
              "      <td>...</td>\n",
              "      <td>22</td>\n",
              "      <td>999</td>\n",
              "      <td>0</td>\n",
              "      <td>nonexistent</td>\n",
              "      <td>1.10</td>\n",
              "      <td>93.99</td>\n",
              "      <td>-36.40</td>\n",
              "      <td>4.86</td>\n",
              "      <td>5191.00</td>\n",
              "      <td>0</td>\n",
              "    </tr>\n",
              "    <tr>\n",
              "      <th>886</th>\n",
              "      <td>56</td>\n",
              "      <td>technician</td>\n",
              "      <td>married</td>\n",
              "      <td>university.degree</td>\n",
              "      <td>unknown</td>\n",
              "      <td>no</td>\n",
              "      <td>no</td>\n",
              "      <td>cellular</td>\n",
              "      <td>jul</td>\n",
              "      <td>mon</td>\n",
              "      <td>...</td>\n",
              "      <td>19</td>\n",
              "      <td>999</td>\n",
              "      <td>0</td>\n",
              "      <td>nonexistent</td>\n",
              "      <td>1.40</td>\n",
              "      <td>93.92</td>\n",
              "      <td>-42.70</td>\n",
              "      <td>4.96</td>\n",
              "      <td>5228.10</td>\n",
              "      <td>0</td>\n",
              "    </tr>\n",
              "  </tbody>\n",
              "</table>\n",
              "<p>10 rows × 21 columns</p>\n",
              "</div>"
            ],
            "text/plain": [
              "      age         job  marital            education  default housing loan  \\\n",
              "2552   31    services   single          high.school       no      no   no   \n",
              "3564   25      admin.   single             basic.9y       no      no   no   \n",
              "3241   39    services  married          high.school       no     yes   no   \n",
              "56     29      admin.   single    university.degree       no     yes   no   \n",
              "2485   41  technician  married          high.school       no     yes   no   \n",
              "2988   45    services  married  professional.course       no     yes   no   \n",
              "2202   29  technician  married    university.degree       no      no   no   \n",
              "713    43      admin.  married          high.school       no     yes   no   \n",
              "3569   31      admin.   single          high.school       no      no   no   \n",
              "886    56  technician  married    university.degree  unknown      no   no   \n",
              "\n",
              "        contact month day_of_week  ...  campaign  pdays  previous  \\\n",
              "2552   cellular   jul         thu  ...        35    999         0   \n",
              "3564   cellular   jul         thu  ...        29    999         0   \n",
              "3241   cellular   jul         thu  ...        29    999         0   \n",
              "56    telephone   jun         fri  ...        27    999         0   \n",
              "2485  telephone   jun         fri  ...        24    999         0   \n",
              "2988   cellular   jul         mon  ...        23    999         0   \n",
              "2202   cellular   jul         thu  ...        23    999         0   \n",
              "713    cellular   jul         mon  ...        22    999         0   \n",
              "3569  telephone   may         thu  ...        22    999         0   \n",
              "886    cellular   jul         mon  ...        19    999         0   \n",
              "\n",
              "         poutcome emp.var.rate  cons.price.idx  cons.conf.idx  euribor3m  \\\n",
              "2552  nonexistent         1.40           93.92         -42.70       4.97   \n",
              "3564  nonexistent         1.40           93.92         -42.70       4.97   \n",
              "3241  nonexistent         1.40           93.92         -42.70       4.97   \n",
              "56    nonexistent         1.40           94.47         -41.80       4.96   \n",
              "2485  nonexistent         1.40           94.47         -41.80       4.96   \n",
              "2988  nonexistent         1.40           93.92         -42.70       4.96   \n",
              "2202  nonexistent         1.40           93.92         -42.70       4.97   \n",
              "713   nonexistent         1.40           93.92         -42.70       4.96   \n",
              "3569  nonexistent         1.10           93.99         -36.40       4.86   \n",
              "886   nonexistent         1.40           93.92         -42.70       4.96   \n",
              "\n",
              "      nr.employed  y  \n",
              "2552      5228.10  0  \n",
              "3564      5228.10  0  \n",
              "3241      5228.10  0  \n",
              "56        5228.10  0  \n",
              "2485      5228.10  0  \n",
              "2988      5228.10  0  \n",
              "2202      5228.10  0  \n",
              "713       5228.10  0  \n",
              "3569      5191.00  0  \n",
              "886       5228.10  0  \n",
              "\n",
              "[10 rows x 21 columns]"
            ]
          },
          "execution_count": 832,
          "metadata": {},
          "output_type": "execute_result"
        }
      ],
      "source": [
        "df.sort_values(by = \"campaign\", ascending = False).head(10)"
      ]
    },
    {
      "cell_type": "markdown",
      "metadata": {
        "id": "xwaZlbEbTThu"
      },
      "source": [
        "### Question 2\n"
      ]
    },
    {
      "cell_type": "markdown",
      "metadata": {
        "id": "_PNycuTMTThv"
      },
      "source": [
        "Determine the average age and the number of contacts for different levels of client education.\n"
      ]
    },
    {
      "cell_type": "code",
      "execution_count": 833,
      "metadata": {
        "colab": {
          "base_uri": "https://localhost:8080/",
          "height": 363
        },
        "id": "o2Hxx2FzTThw",
        "outputId": "13708268-e3b8-49aa-f656-7d06e549ee98"
      },
      "outputs": [
        {
          "data": {
            "text/html": [
              "<div>\n",
              "<style scoped>\n",
              "    .dataframe tbody tr th:only-of-type {\n",
              "        vertical-align: middle;\n",
              "    }\n",
              "\n",
              "    .dataframe tbody tr th {\n",
              "        vertical-align: top;\n",
              "    }\n",
              "\n",
              "    .dataframe thead tr th {\n",
              "        text-align: left;\n",
              "    }\n",
              "\n",
              "    .dataframe thead tr:last-of-type th {\n",
              "        text-align: right;\n",
              "    }\n",
              "</style>\n",
              "<table border=\"1\" class=\"dataframe\">\n",
              "  <thead>\n",
              "    <tr>\n",
              "      <th></th>\n",
              "      <th colspan=\"2\" halign=\"left\">mean</th>\n",
              "      <th colspan=\"2\" halign=\"left\">count</th>\n",
              "    </tr>\n",
              "    <tr>\n",
              "      <th></th>\n",
              "      <th>age</th>\n",
              "      <th>campaign</th>\n",
              "      <th>age</th>\n",
              "      <th>campaign</th>\n",
              "    </tr>\n",
              "    <tr>\n",
              "      <th>education</th>\n",
              "      <th></th>\n",
              "      <th></th>\n",
              "      <th></th>\n",
              "      <th></th>\n",
              "    </tr>\n",
              "  </thead>\n",
              "  <tbody>\n",
              "    <tr>\n",
              "      <th>basic.4y</th>\n",
              "      <td>47.66</td>\n",
              "      <td>2.42</td>\n",
              "      <td>429</td>\n",
              "      <td>429</td>\n",
              "    </tr>\n",
              "    <tr>\n",
              "      <th>basic.6y</th>\n",
              "      <td>40.14</td>\n",
              "      <td>2.65</td>\n",
              "      <td>228</td>\n",
              "      <td>228</td>\n",
              "    </tr>\n",
              "    <tr>\n",
              "      <th>basic.9y</th>\n",
              "      <td>39.23</td>\n",
              "      <td>2.35</td>\n",
              "      <td>574</td>\n",
              "      <td>574</td>\n",
              "    </tr>\n",
              "    <tr>\n",
              "      <th>high.school</th>\n",
              "      <td>38.10</td>\n",
              "      <td>2.63</td>\n",
              "      <td>921</td>\n",
              "      <td>921</td>\n",
              "    </tr>\n",
              "    <tr>\n",
              "      <th>illiterate</th>\n",
              "      <td>42.00</td>\n",
              "      <td>4.00</td>\n",
              "      <td>1</td>\n",
              "      <td>1</td>\n",
              "    </tr>\n",
              "    <tr>\n",
              "      <th>professional.course</th>\n",
              "      <td>40.21</td>\n",
              "      <td>2.51</td>\n",
              "      <td>535</td>\n",
              "      <td>535</td>\n",
              "    </tr>\n",
              "    <tr>\n",
              "      <th>university.degree</th>\n",
              "      <td>39.02</td>\n",
              "      <td>2.58</td>\n",
              "      <td>1264</td>\n",
              "      <td>1264</td>\n",
              "    </tr>\n",
              "    <tr>\n",
              "      <th>unknown</th>\n",
              "      <td>42.83</td>\n",
              "      <td>2.54</td>\n",
              "      <td>167</td>\n",
              "      <td>167</td>\n",
              "    </tr>\n",
              "  </tbody>\n",
              "</table>\n",
              "</div>"
            ],
            "text/plain": [
              "                     mean          count         \n",
              "                      age campaign   age campaign\n",
              "education                                        \n",
              "basic.4y            47.66     2.42   429      429\n",
              "basic.6y            40.14     2.65   228      228\n",
              "basic.9y            39.23     2.35   574      574\n",
              "high.school         38.10     2.63   921      921\n",
              "illiterate          42.00     4.00     1        1\n",
              "professional.course 40.21     2.51   535      535\n",
              "university.degree   39.02     2.58  1264     1264\n",
              "unknown             42.83     2.54   167      167"
            ]
          },
          "execution_count": 833,
          "metadata": {},
          "output_type": "execute_result"
        }
      ],
      "source": [
        "df.pivot_table(\n",
        "    [\"age\", \"campaign\"],\n",
        "    [\"education\"],\n",
        "    aggfunc = [\"mean\", \"count\"],\n",
        ")\n"
      ]
    }
  ],
  "metadata": {
    "colab": {
      "collapsed_sections": [],
      "name": "Proj1_EDA_Pandas_Banking.ipynb",
      "provenance": []
    },
    "kernelspec": {
      "display_name": "Python 3",
      "language": "python",
      "name": "python3"
    },
    "language_info": {
      "codemirror_mode": {
        "name": "ipython",
        "version": 3
      },
      "file_extension": ".py",
      "mimetype": "text/x-python",
      "name": "python",
      "nbconvert_exporter": "python",
      "pygments_lexer": "ipython3",
      "version": "3.12.2"
    }
  },
  "nbformat": 4,
  "nbformat_minor": 0
}
